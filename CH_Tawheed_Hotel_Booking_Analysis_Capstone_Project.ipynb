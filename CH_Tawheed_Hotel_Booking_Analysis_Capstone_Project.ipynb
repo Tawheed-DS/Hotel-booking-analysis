{
  "nbformat": 4,
  "nbformat_minor": 0,
  "metadata": {
    "kernelspec": {
      "display_name": "Python 3",
      "language": "python",
      "name": "python3"
    },
    "language_info": {
      "codemirror_mode": {
        "name": "ipython",
        "version": 3
      },
      "file_extension": ".py",
      "mimetype": "text/x-python",
      "name": "python",
      "nbconvert_exporter": "python",
      "pygments_lexer": "ipython3",
      "version": "3.6.6"
    },
    "colab": {
      "name": "CH - Tawheed - Hotel Booking Analysis - Capstone Project.ipynb",
      "provenance": [],
      "collapsed_sections": [],
      "include_colab_link": true
    }
  },
  "cells": [
    {
      "cell_type": "markdown",
      "metadata": {
        "id": "view-in-github",
        "colab_type": "text"
      },
      "source": [
        "<a href=\"https://colab.research.google.com/github/Tawheed-DS/Hotel-booking-analysis/blob/main/CH_Tawheed_Hotel_Booking_Analysis_Capstone_Project.ipynb\" target=\"_parent\"><img src=\"https://colab.research.google.com/assets/colab-badge.svg\" alt=\"Open In Colab\"/></a>"
      ]
    },
    {
      "cell_type": "markdown",
      "metadata": {
        "id": "Y06xIdG26kRF"
      },
      "source": [
        "## <b> Have you ever wondered when the best time of year to book a hotel room is? Or the optimal length of stay in order to get the best daily rate? What if you wanted to predict whether or not a hotel was likely to receive a disproportionately high number of special requests? This hotel booking dataset can help you explore those questions!\n",
        "\n",
        "## <b>This data set contains booking information for a city hotel and a resort hotel, and includes information such as when the booking was made, length of stay, the number of adults, children, and/or babies, and the number of available parking spaces, among other things. All personally identifying information has been removed from the data. </b>\n",
        "\n",
        "## <b> Explore and analyze the data to discover important factors that govern the bookings. </b>"
      ]
    },
    {
      "cell_type": "code",
      "metadata": {
        "colab": {
          "base_uri": "https://localhost:8080/"
        },
        "id": "YQecxUQyECBB",
        "outputId": "8f7a2276-4c79-4a4d-df06-80c3991a6c47"
      },
      "source": [
        "from google.colab import drive\n",
        "drive.mount('/content/drive')"
      ],
      "execution_count": 1,
      "outputs": [
        {
          "output_type": "stream",
          "text": [
            "Mounted at /content/drive\n"
          ],
          "name": "stdout"
        }
      ]
    },
    {
      "cell_type": "code",
      "metadata": {
        "id": "dByMsuzT8Tnw"
      },
      "source": [
        "path = '/content/drive/MyDrive/Data files/Copy of Hotel Bookings.csv'"
      ],
      "execution_count": 82,
      "outputs": []
    },
    {
      "cell_type": "code",
      "metadata": {
        "id": "mtHoXWxGEu7z"
      },
      "source": [
        "import pandas as pd\n",
        "import numpy as np\n",
        "import matplotlib.pyplot as plt\n",
        "import seaborn as sns\n",
        "\n",
        "%matplotlib inline\n"
      ],
      "execution_count": 83,
      "outputs": []
    },
    {
      "cell_type": "markdown",
      "metadata": {
        "id": "a7o4fCAAMh4E"
      },
      "source": [
        "#Let's do some preliminary analysis for the start"
      ]
    },
    {
      "cell_type": "code",
      "metadata": {
        "id": "w4YMkyXrEdwN"
      },
      "source": [
        "#Read the Data file into a dataframe\n",
        "df = pd.read_csv(path)"
      ],
      "execution_count": 84,
      "outputs": []
    },
    {
      "cell_type": "code",
      "metadata": {
        "colab": {
          "base_uri": "https://localhost:8080/"
        },
        "id": "C-DBqfUVFEgy",
        "outputId": "6d22cb00-2ec5-4eca-dbb3-0e4348c3222a"
      },
      "source": [
        "#A brief description of our dataframe\n",
        "df.info()"
      ],
      "execution_count": 85,
      "outputs": [
        {
          "output_type": "stream",
          "text": [
            "<class 'pandas.core.frame.DataFrame'>\n",
            "RangeIndex: 119390 entries, 0 to 119389\n",
            "Data columns (total 32 columns):\n",
            " #   Column                          Non-Null Count   Dtype  \n",
            "---  ------                          --------------   -----  \n",
            " 0   hotel                           119390 non-null  object \n",
            " 1   is_canceled                     119390 non-null  int64  \n",
            " 2   lead_time                       119390 non-null  int64  \n",
            " 3   arrival_date_year               119390 non-null  int64  \n",
            " 4   arrival_date_month              119390 non-null  object \n",
            " 5   arrival_date_week_number        119390 non-null  int64  \n",
            " 6   arrival_date_day_of_month       119390 non-null  int64  \n",
            " 7   stays_in_weekend_nights         119390 non-null  int64  \n",
            " 8   stays_in_week_nights            119390 non-null  int64  \n",
            " 9   adults                          119390 non-null  int64  \n",
            " 10  children                        119386 non-null  float64\n",
            " 11  babies                          119390 non-null  int64  \n",
            " 12  meal                            119390 non-null  object \n",
            " 13  country                         118902 non-null  object \n",
            " 14  market_segment                  119390 non-null  object \n",
            " 15  distribution_channel            119390 non-null  object \n",
            " 16  is_repeated_guest               119390 non-null  int64  \n",
            " 17  previous_cancellations          119390 non-null  int64  \n",
            " 18  previous_bookings_not_canceled  119390 non-null  int64  \n",
            " 19  reserved_room_type              119390 non-null  object \n",
            " 20  assigned_room_type              119390 non-null  object \n",
            " 21  booking_changes                 119390 non-null  int64  \n",
            " 22  deposit_type                    119390 non-null  object \n",
            " 23  agent                           103050 non-null  float64\n",
            " 24  company                         6797 non-null    float64\n",
            " 25  days_in_waiting_list            119390 non-null  int64  \n",
            " 26  customer_type                   119390 non-null  object \n",
            " 27  adr                             119390 non-null  float64\n",
            " 28  required_car_parking_spaces     119390 non-null  int64  \n",
            " 29  total_of_special_requests       119390 non-null  int64  \n",
            " 30  reservation_status              119390 non-null  object \n",
            " 31  reservation_status_date         119390 non-null  object \n",
            "dtypes: float64(4), int64(16), object(12)\n",
            "memory usage: 29.1+ MB\n"
          ],
          "name": "stdout"
        }
      ]
    },
    {
      "cell_type": "markdown",
      "metadata": {
        "id": "dXpc9_dTM0hv"
      },
      "source": [
        "### Clearly there are some features which may or may not be useful to us. Plus if we can do away with the columns which have missing values we can straighten out our Dataframe a bit.\n",
        " <i>For now let's see how many null values do we have in each column and which one has the highest</i>"
      ]
    },
    {
      "cell_type": "code",
      "metadata": {
        "colab": {
          "base_uri": "https://localhost:8080/"
        },
        "id": "aAv9fT3hpegN",
        "outputId": "89816496-970e-4fbc-da14-a96828ed40dc"
      },
      "source": [
        "df.isnull().sum()"
      ],
      "execution_count": 6,
      "outputs": [
        {
          "output_type": "execute_result",
          "data": {
            "text/plain": [
              "hotel                                  0\n",
              "is_canceled                            0\n",
              "lead_time                              0\n",
              "arrival_date_year                      0\n",
              "arrival_date_month                     0\n",
              "arrival_date_week_number               0\n",
              "arrival_date_day_of_month              0\n",
              "stays_in_weekend_nights                0\n",
              "stays_in_week_nights                   0\n",
              "adults                                 0\n",
              "children                               4\n",
              "babies                                 0\n",
              "meal                                   0\n",
              "country                              488\n",
              "market_segment                         0\n",
              "distribution_channel                   0\n",
              "is_repeated_guest                      0\n",
              "previous_cancellations                 0\n",
              "previous_bookings_not_canceled         0\n",
              "reserved_room_type                     0\n",
              "assigned_room_type                     0\n",
              "booking_changes                        0\n",
              "deposit_type                           0\n",
              "agent                              16340\n",
              "company                           112593\n",
              "days_in_waiting_list                   0\n",
              "customer_type                          0\n",
              "adr                                    0\n",
              "required_car_parking_spaces            0\n",
              "total_of_special_requests              0\n",
              "reservation_status                     0\n",
              "reservation_status_date                0\n",
              "dtype: int64"
            ]
          },
          "metadata": {
            "tags": []
          },
          "execution_count": 6
        }
      ]
    },
    {
      "cell_type": "markdown",
      "metadata": {
        "id": "qbQnTBBcOp7D"
      },
      "source": [
        "##There are about 4 columns in the Dataframe which have null values and none of the datatypes seem to be misplaced. Folks! we have a surprisingly clean dataframe, cheers!\n",
        " Let's delve a bit deeper and see what are the unique values in number and in kind!"
      ]
    },
    {
      "cell_type": "code",
      "metadata": {
        "colab": {
          "base_uri": "https://localhost:8080/"
        },
        "id": "ropYI2lOqpjH",
        "outputId": "805d0963-6622-4114-d8f5-bdfbd3cc04f0"
      },
      "source": [
        "df.nunique()"
      ],
      "execution_count": 7,
      "outputs": [
        {
          "output_type": "execute_result",
          "data": {
            "text/plain": [
              "hotel                                2\n",
              "is_canceled                          2\n",
              "lead_time                          479\n",
              "arrival_date_year                    3\n",
              "arrival_date_month                  12\n",
              "arrival_date_week_number            53\n",
              "arrival_date_day_of_month           31\n",
              "stays_in_weekend_nights             17\n",
              "stays_in_week_nights                35\n",
              "adults                              14\n",
              "children                             5\n",
              "babies                               5\n",
              "meal                                 5\n",
              "country                            177\n",
              "market_segment                       8\n",
              "distribution_channel                 5\n",
              "is_repeated_guest                    2\n",
              "previous_cancellations              15\n",
              "previous_bookings_not_canceled      73\n",
              "reserved_room_type                  10\n",
              "assigned_room_type                  12\n",
              "booking_changes                     21\n",
              "deposit_type                         3\n",
              "agent                              333\n",
              "company                            352\n",
              "days_in_waiting_list               128\n",
              "customer_type                        4\n",
              "adr                               8879\n",
              "required_car_parking_spaces          5\n",
              "total_of_special_requests            6\n",
              "reservation_status                   3\n",
              "reservation_status_date            926\n",
              "dtype: int64"
            ]
          },
          "metadata": {
            "tags": []
          },
          "execution_count": 7
        }
      ]
    },
    {
      "cell_type": "code",
      "metadata": {
        "colab": {
          "base_uri": "https://localhost:8080/"
        },
        "id": "1CkglP82rmlC",
        "outputId": "2a9e9e9e-9e01-49b0-fdc7-60fd593a6f0c"
      },
      "source": [
        "df['distribution_channel'].unique()"
      ],
      "execution_count": 8,
      "outputs": [
        {
          "output_type": "execute_result",
          "data": {
            "text/plain": [
              "array(['Direct', 'Corporate', 'TA/TO', 'Undefined', 'GDS'], dtype=object)"
            ]
          },
          "metadata": {
            "tags": []
          },
          "execution_count": 8
        }
      ]
    },
    {
      "cell_type": "markdown",
      "metadata": {
        "id": "LAM_1xMCJFLZ"
      },
      "source": [
        "#Let's get rid of the rudimentary stuff already!\n",
        " <i>So here the columns we are going to keep and the ones we will just throw out, take a peek!</i>"
      ]
    },
    {
      "cell_type": "code",
      "metadata": {
        "colab": {
          "base_uri": "https://localhost:8080/"
        },
        "id": "AaX2gXQgsk9J",
        "outputId": "308a4fec-2d5a-4630-9a12-fe08a9856a72"
      },
      "source": [
        "#Columns in the original dataframe\n",
        "df.columns"
      ],
      "execution_count": 9,
      "outputs": [
        {
          "output_type": "execute_result",
          "data": {
            "text/plain": [
              "Index(['hotel', 'is_canceled', 'lead_time', 'arrival_date_year',\n",
              "       'arrival_date_month', 'arrival_date_week_number',\n",
              "       'arrival_date_day_of_month', 'stays_in_weekend_nights',\n",
              "       'stays_in_week_nights', 'adults', 'children', 'babies', 'meal',\n",
              "       'country', 'market_segment', 'distribution_channel',\n",
              "       'is_repeated_guest', 'previous_cancellations',\n",
              "       'previous_bookings_not_canceled', 'reserved_room_type',\n",
              "       'assigned_room_type', 'booking_changes', 'deposit_type', 'agent',\n",
              "       'company', 'days_in_waiting_list', 'customer_type', 'adr',\n",
              "       'required_car_parking_spaces', 'total_of_special_requests',\n",
              "       'reservation_status', 'reservation_status_date'],\n",
              "      dtype='object')"
            ]
          },
          "metadata": {
            "tags": []
          },
          "execution_count": 9
        }
      ]
    },
    {
      "cell_type": "code",
      "metadata": {
        "id": "HBme21Ib4Ub6"
      },
      "source": [
        "#List of columns we would like to keep\n",
        "features_of_interest = ['hotel', 'is_canceled', 'lead_time', 'arrival_date_year',\n",
        "       'arrival_date_month','arrival_date_day_of_month','stays_in_weekend_nights',\n",
        "       'stays_in_week_nights','children', 'babies', 'meal',\n",
        "       'country', 'market_segment', 'distribution_channel',\n",
        "       'is_repeated_guest', 'previous_cancellations',\n",
        "       'previous_bookings_not_canceled', 'reserved_room_type',\n",
        "       'assigned_room_type', 'booking_changes', 'deposit_type',\n",
        "       'days_in_waiting_list', 'customer_type', 'adr',\n",
        "       'total_of_special_requests',\n",
        "       'reservation_status']"
      ],
      "execution_count": 10,
      "outputs": []
    },
    {
      "cell_type": "code",
      "metadata": {
        "id": "HhMFow9b4iT1"
      },
      "source": [
        "#list of columns we will drop\n",
        "features_to_be_dropped = ['arrival_date_week_number',\n",
        "                          'agent','company',\n",
        "                          'reservation_status_date']"
      ],
      "execution_count": 11,
      "outputs": []
    },
    {
      "cell_type": "markdown",
      "metadata": {
        "id": "k8XIK2_8RfZp"
      },
      "source": [
        "##Now we don't want to ruin the original data here so will begin with creating a copy of it so we can lay our hands on it without having to be afraid of ruining the whole show!"
      ]
    },
    {
      "cell_type": "code",
      "metadata": {
        "id": "eq1wKd6u6e5o"
      },
      "source": [
        "#Creating a copy of original dataframe using (.copy) method\n",
        "new_df = df.copy()"
      ],
      "execution_count": 87,
      "outputs": []
    },
    {
      "cell_type": "markdown",
      "metadata": {
        "id": "IdIDST0AS83C"
      },
      "source": [
        "##There are 4 missing values in the children column, we can easily assume that those people brought no children to the party!\n",
        " <i>Okay so let's assume that and also let's get on with dropping columns</i>"
      ]
    },
    {
      "cell_type": "code",
      "metadata": {
        "id": "RXr4hj7u5tCY"
      },
      "source": [
        "# Replace null values in children column with zero\n",
        "new_df.loc[new_df.children.isnull(),'children'] = 0"
      ],
      "execution_count": 88,
      "outputs": []
    },
    {
      "cell_type": "code",
      "metadata": {
        "id": "uGIpiaMq6vOx"
      },
      "source": [
        "# Drop the columns which don't provide any usable information\n",
        "new_df.drop(columns=['agent','company','arrival_date_week_number',\n",
        "                     'reservation_status_date'],inplace=True)"
      ],
      "execution_count": 89,
      "outputs": []
    },
    {
      "cell_type": "markdown",
      "metadata": {
        "id": "VyqsVimPUnDG"
      },
      "source": [
        "##So we are down by five columns, we use this dataframe now onwards and in case we change our mind about something we also have original data with us <i>so chill!</i>\n",
        " <b>Now let's have a look at the brand new dataframe </b>"
      ]
    },
    {
      "cell_type": "code",
      "metadata": {
        "colab": {
          "base_uri": "https://localhost:8080/"
        },
        "id": "j1cshXV97L5G",
        "outputId": "53a3c200-0e74-4e7b-91ba-e69bb16f6f62"
      },
      "source": [
        "#The new dataframe info\n",
        "new_df.info()"
      ],
      "execution_count": 90,
      "outputs": [
        {
          "output_type": "stream",
          "text": [
            "<class 'pandas.core.frame.DataFrame'>\n",
            "RangeIndex: 119390 entries, 0 to 119389\n",
            "Data columns (total 28 columns):\n",
            " #   Column                          Non-Null Count   Dtype  \n",
            "---  ------                          --------------   -----  \n",
            " 0   hotel                           119390 non-null  object \n",
            " 1   is_canceled                     119390 non-null  int64  \n",
            " 2   lead_time                       119390 non-null  int64  \n",
            " 3   arrival_date_year               119390 non-null  int64  \n",
            " 4   arrival_date_month              119390 non-null  object \n",
            " 5   arrival_date_day_of_month       119390 non-null  int64  \n",
            " 6   stays_in_weekend_nights         119390 non-null  int64  \n",
            " 7   stays_in_week_nights            119390 non-null  int64  \n",
            " 8   adults                          119390 non-null  int64  \n",
            " 9   children                        119390 non-null  float64\n",
            " 10  babies                          119390 non-null  int64  \n",
            " 11  meal                            119390 non-null  object \n",
            " 12  country                         118902 non-null  object \n",
            " 13  market_segment                  119390 non-null  object \n",
            " 14  distribution_channel            119390 non-null  object \n",
            " 15  is_repeated_guest               119390 non-null  int64  \n",
            " 16  previous_cancellations          119390 non-null  int64  \n",
            " 17  previous_bookings_not_canceled  119390 non-null  int64  \n",
            " 18  reserved_room_type              119390 non-null  object \n",
            " 19  assigned_room_type              119390 non-null  object \n",
            " 20  booking_changes                 119390 non-null  int64  \n",
            " 21  deposit_type                    119390 non-null  object \n",
            " 22  days_in_waiting_list            119390 non-null  int64  \n",
            " 23  customer_type                   119390 non-null  object \n",
            " 24  adr                             119390 non-null  float64\n",
            " 25  required_car_parking_spaces     119390 non-null  int64  \n",
            " 26  total_of_special_requests       119390 non-null  int64  \n",
            " 27  reservation_status              119390 non-null  object \n",
            "dtypes: float64(2), int64(15), object(11)\n",
            "memory usage: 25.5+ MB\n"
          ],
          "name": "stdout"
        }
      ]
    },
    {
      "cell_type": "code",
      "metadata": {
        "colab": {
          "base_uri": "https://localhost:8080/",
          "height": 309
        },
        "id": "yq2KibxkI65Q",
        "outputId": "47942930-9177-4fb4-e5bc-2d2e524fe6df"
      },
      "source": [
        "new_df.head()"
      ],
      "execution_count": 91,
      "outputs": [
        {
          "output_type": "execute_result",
          "data": {
            "text/html": [
              "<div>\n",
              "<style scoped>\n",
              "    .dataframe tbody tr th:only-of-type {\n",
              "        vertical-align: middle;\n",
              "    }\n",
              "\n",
              "    .dataframe tbody tr th {\n",
              "        vertical-align: top;\n",
              "    }\n",
              "\n",
              "    .dataframe thead th {\n",
              "        text-align: right;\n",
              "    }\n",
              "</style>\n",
              "<table border=\"1\" class=\"dataframe\">\n",
              "  <thead>\n",
              "    <tr style=\"text-align: right;\">\n",
              "      <th></th>\n",
              "      <th>hotel</th>\n",
              "      <th>is_canceled</th>\n",
              "      <th>lead_time</th>\n",
              "      <th>arrival_date_year</th>\n",
              "      <th>arrival_date_month</th>\n",
              "      <th>arrival_date_day_of_month</th>\n",
              "      <th>stays_in_weekend_nights</th>\n",
              "      <th>stays_in_week_nights</th>\n",
              "      <th>adults</th>\n",
              "      <th>children</th>\n",
              "      <th>babies</th>\n",
              "      <th>meal</th>\n",
              "      <th>country</th>\n",
              "      <th>market_segment</th>\n",
              "      <th>distribution_channel</th>\n",
              "      <th>is_repeated_guest</th>\n",
              "      <th>previous_cancellations</th>\n",
              "      <th>previous_bookings_not_canceled</th>\n",
              "      <th>reserved_room_type</th>\n",
              "      <th>assigned_room_type</th>\n",
              "      <th>booking_changes</th>\n",
              "      <th>deposit_type</th>\n",
              "      <th>days_in_waiting_list</th>\n",
              "      <th>customer_type</th>\n",
              "      <th>adr</th>\n",
              "      <th>required_car_parking_spaces</th>\n",
              "      <th>total_of_special_requests</th>\n",
              "      <th>reservation_status</th>\n",
              "    </tr>\n",
              "  </thead>\n",
              "  <tbody>\n",
              "    <tr>\n",
              "      <th>0</th>\n",
              "      <td>Resort Hotel</td>\n",
              "      <td>0</td>\n",
              "      <td>342</td>\n",
              "      <td>2015</td>\n",
              "      <td>July</td>\n",
              "      <td>1</td>\n",
              "      <td>0</td>\n",
              "      <td>0</td>\n",
              "      <td>2</td>\n",
              "      <td>0.0</td>\n",
              "      <td>0</td>\n",
              "      <td>BB</td>\n",
              "      <td>PRT</td>\n",
              "      <td>Direct</td>\n",
              "      <td>Direct</td>\n",
              "      <td>0</td>\n",
              "      <td>0</td>\n",
              "      <td>0</td>\n",
              "      <td>C</td>\n",
              "      <td>C</td>\n",
              "      <td>3</td>\n",
              "      <td>No Deposit</td>\n",
              "      <td>0</td>\n",
              "      <td>Transient</td>\n",
              "      <td>0.0</td>\n",
              "      <td>0</td>\n",
              "      <td>0</td>\n",
              "      <td>Check-Out</td>\n",
              "    </tr>\n",
              "    <tr>\n",
              "      <th>1</th>\n",
              "      <td>Resort Hotel</td>\n",
              "      <td>0</td>\n",
              "      <td>737</td>\n",
              "      <td>2015</td>\n",
              "      <td>July</td>\n",
              "      <td>1</td>\n",
              "      <td>0</td>\n",
              "      <td>0</td>\n",
              "      <td>2</td>\n",
              "      <td>0.0</td>\n",
              "      <td>0</td>\n",
              "      <td>BB</td>\n",
              "      <td>PRT</td>\n",
              "      <td>Direct</td>\n",
              "      <td>Direct</td>\n",
              "      <td>0</td>\n",
              "      <td>0</td>\n",
              "      <td>0</td>\n",
              "      <td>C</td>\n",
              "      <td>C</td>\n",
              "      <td>4</td>\n",
              "      <td>No Deposit</td>\n",
              "      <td>0</td>\n",
              "      <td>Transient</td>\n",
              "      <td>0.0</td>\n",
              "      <td>0</td>\n",
              "      <td>0</td>\n",
              "      <td>Check-Out</td>\n",
              "    </tr>\n",
              "    <tr>\n",
              "      <th>2</th>\n",
              "      <td>Resort Hotel</td>\n",
              "      <td>0</td>\n",
              "      <td>7</td>\n",
              "      <td>2015</td>\n",
              "      <td>July</td>\n",
              "      <td>1</td>\n",
              "      <td>0</td>\n",
              "      <td>1</td>\n",
              "      <td>1</td>\n",
              "      <td>0.0</td>\n",
              "      <td>0</td>\n",
              "      <td>BB</td>\n",
              "      <td>GBR</td>\n",
              "      <td>Direct</td>\n",
              "      <td>Direct</td>\n",
              "      <td>0</td>\n",
              "      <td>0</td>\n",
              "      <td>0</td>\n",
              "      <td>A</td>\n",
              "      <td>C</td>\n",
              "      <td>0</td>\n",
              "      <td>No Deposit</td>\n",
              "      <td>0</td>\n",
              "      <td>Transient</td>\n",
              "      <td>75.0</td>\n",
              "      <td>0</td>\n",
              "      <td>0</td>\n",
              "      <td>Check-Out</td>\n",
              "    </tr>\n",
              "    <tr>\n",
              "      <th>3</th>\n",
              "      <td>Resort Hotel</td>\n",
              "      <td>0</td>\n",
              "      <td>13</td>\n",
              "      <td>2015</td>\n",
              "      <td>July</td>\n",
              "      <td>1</td>\n",
              "      <td>0</td>\n",
              "      <td>1</td>\n",
              "      <td>1</td>\n",
              "      <td>0.0</td>\n",
              "      <td>0</td>\n",
              "      <td>BB</td>\n",
              "      <td>GBR</td>\n",
              "      <td>Corporate</td>\n",
              "      <td>Corporate</td>\n",
              "      <td>0</td>\n",
              "      <td>0</td>\n",
              "      <td>0</td>\n",
              "      <td>A</td>\n",
              "      <td>A</td>\n",
              "      <td>0</td>\n",
              "      <td>No Deposit</td>\n",
              "      <td>0</td>\n",
              "      <td>Transient</td>\n",
              "      <td>75.0</td>\n",
              "      <td>0</td>\n",
              "      <td>0</td>\n",
              "      <td>Check-Out</td>\n",
              "    </tr>\n",
              "    <tr>\n",
              "      <th>4</th>\n",
              "      <td>Resort Hotel</td>\n",
              "      <td>0</td>\n",
              "      <td>14</td>\n",
              "      <td>2015</td>\n",
              "      <td>July</td>\n",
              "      <td>1</td>\n",
              "      <td>0</td>\n",
              "      <td>2</td>\n",
              "      <td>2</td>\n",
              "      <td>0.0</td>\n",
              "      <td>0</td>\n",
              "      <td>BB</td>\n",
              "      <td>GBR</td>\n",
              "      <td>Online TA</td>\n",
              "      <td>TA/TO</td>\n",
              "      <td>0</td>\n",
              "      <td>0</td>\n",
              "      <td>0</td>\n",
              "      <td>A</td>\n",
              "      <td>A</td>\n",
              "      <td>0</td>\n",
              "      <td>No Deposit</td>\n",
              "      <td>0</td>\n",
              "      <td>Transient</td>\n",
              "      <td>98.0</td>\n",
              "      <td>0</td>\n",
              "      <td>1</td>\n",
              "      <td>Check-Out</td>\n",
              "    </tr>\n",
              "  </tbody>\n",
              "</table>\n",
              "</div>"
            ],
            "text/plain": [
              "          hotel  is_canceled  ...  total_of_special_requests  reservation_status\n",
              "0  Resort Hotel            0  ...                          0           Check-Out\n",
              "1  Resort Hotel            0  ...                          0           Check-Out\n",
              "2  Resort Hotel            0  ...                          0           Check-Out\n",
              "3  Resort Hotel            0  ...                          0           Check-Out\n",
              "4  Resort Hotel            0  ...                          1           Check-Out\n",
              "\n",
              "[5 rows x 28 columns]"
            ]
          },
          "metadata": {
            "tags": []
          },
          "execution_count": 91
        }
      ]
    },
    {
      "cell_type": "markdown",
      "metadata": {
        "id": "Ik7xTHGlV1bL"
      },
      "source": [
        "#Let's get down to bussiness now!"
      ]
    },
    {
      "cell_type": "markdown",
      "metadata": {
        "id": "RJjtRL0ZIQp7"
      },
      "source": [
        "##We will begin by getting an idea about how each of the resort hotel and city hotel has performed for the given three years\n",
        "<b>Note: we will use a new dataframe in which only non cancelled bookings are taken into account so that a true picture of booking trend is revealed</b>"
      ]
    },
    {
      "cell_type": "code",
      "metadata": {
        "id": "UaJbJ_GiJ1hi"
      },
      "source": [
        "#Create a dataframe which has only non-cancelled bookings\n",
        "Non_cancelled_bookings = new_df[new_df['is_canceled']==0]"
      ],
      "execution_count": 92,
      "outputs": []
    },
    {
      "cell_type": "code",
      "metadata": {
        "colab": {
          "base_uri": "https://localhost:8080/"
        },
        "id": "0bsmWlwbD48t",
        "outputId": "59aea86c-2eeb-49c3-f6bd-27c138441d4c"
      },
      "source": [
        "#Hotel types that we have\n",
        "Non_cancelled_bookings['hotel'].unique()"
      ],
      "execution_count": 93,
      "outputs": [
        {
          "output_type": "execute_result",
          "data": {
            "text/plain": [
              "array(['Resort Hotel', 'City Hotel'], dtype=object)"
            ]
          },
          "metadata": {
            "tags": []
          },
          "execution_count": 93
        }
      ]
    },
    {
      "cell_type": "markdown",
      "metadata": {
        "id": "duSuJ2uqIxOw"
      },
      "source": [
        "##Let's just take both the hotels and have a look at the bookings that have been made in each one and see if the overall sales are in an uptrend or a downtrend."
      ]
    },
    {
      "cell_type": "code",
      "metadata": {
        "id": "Utw5bojLEm3z"
      },
      "source": [
        "#Apply required boolean to filter out Resort Hotel\n",
        "resort_hotel_sales = Non_cancelled_bookings[Non_cancelled_bookings['hotel']=='Resort Hotel']['arrival_date_year'].value_counts()\n",
        "#Sort the series by years\n",
        "resort_hotel_sales = resort_hotel_sales.sort_index()\n",
        "\n",
        "#Apply the required boolean to filter out City Hotel\n",
        "city_hotel_sales = Non_cancelled_bookings[Non_cancelled_bookings['hotel']=='City Hotel']['arrival_date_year'].value_counts()\n",
        "#Sort by years\n",
        "city_hotel_sales = city_hotel_sales.sort_index()"
      ],
      "execution_count": 94,
      "outputs": []
    },
    {
      "cell_type": "code",
      "metadata": {
        "colab": {
          "base_uri": "https://localhost:8080/",
          "height": 377
        },
        "id": "4yW6cCEnF0oF",
        "outputId": "b773c64a-7ebd-47b4-f774-f93db90f60c2"
      },
      "source": [
        "#Create a figure of required size\n",
        "plt.rcParams['figure.figsize'] = (10, 5)\n",
        "\n",
        "# Create the plot object for resort Hotel\n",
        "plt.plot(resort_hotel_sales,label='Resort Hotel')\n",
        "\n",
        "# Create the plot object for City Hotel\n",
        "plt.plot(city_hotel_sales,label='City Hotel')\n",
        "\n",
        "#Give a title to the graph\n",
        "plt.title('Bookings curve of each Hotel for three years',fontdict = {'fontsize':17})\n",
        "\n",
        "#Name x and y labels\n",
        "plt.ylabel('Total number of bookings',fontdict = {'fontsize':15})\n",
        "plt.xlabel('Year',fontdict = {'fontsize':15})\n",
        "\n",
        "#To Display labels for each curve\n",
        "plt.legend()"
      ],
      "execution_count": 95,
      "outputs": [
        {
          "output_type": "execute_result",
          "data": {
            "text/plain": [
              "<matplotlib.legend.Legend at 0x7f4757901a90>"
            ]
          },
          "metadata": {
            "tags": []
          },
          "execution_count": 95
        },
        {
          "output_type": "display_data",
          "data": {
            "image/png": "[encoded data removed]",
            "text/plain": [
              "<Figure size 720x360 with 1 Axes>"
            ]
          },
          "metadata": {
            "tags": [],
            "needs_background": "light"
          }
        }
      ]
    },
    {
      "cell_type": "markdown",
      "metadata": {
        "id": "nv192MC0LLka"
      },
      "source": [
        "In a single glance we can see that no matter which year the overall bookings are more for City Hotel in comparison to Resort Hotel\n",
        "\n",
        "We can also see that the bookings, (or sales because that's what they are) have fallen for both the hotels from the year 2016 onwards but for Resort Hotel they have fallen more sharply!"
      ]
    },
    {
      "cell_type": "markdown",
      "metadata": {
        "id": "Lbc1rNJTMlQA"
      },
      "source": [
        "#It would also be beneficial to see a price trend in each hotel\n",
        " To get an idea we will just take the median price each hotel has asked over all the years combined"
      ]
    },
    {
      "cell_type": "code",
      "metadata": {
        "id": "iQ9CyuZ3LLKu"
      },
      "source": [
        "#Obtain the median price\n",
        "median_price = Non_cancelled_bookings.groupby('hotel')['adr'].median()\n"
      ],
      "execution_count": 96,
      "outputs": []
    },
    {
      "cell_type": "code",
      "metadata": {
        "colab": {
          "base_uri": "https://localhost:8080/",
          "height": 429
        },
        "id": "Bz_6bC0qOym9",
        "outputId": "9aa98b65-eb91-4dbe-bfaa-794cdacfb4bb"
      },
      "source": [
        "#plot a bar graph for above data\n",
        "plt.rcParams['figure.figsize'] = (10, 5)\n",
        "\n",
        "median_price.plot(kind='bar')\n",
        "\n",
        "#Give title and x,y labels\n",
        "plt.title('Median price for the two hotels',fontdict = {'fontsize':20})\n",
        "plt.ylabel('Median price',fontdict = {'fontsize':15})\n",
        "plt.xlabel('Hotel',fontdict = {'fontsize':15})"
      ],
      "execution_count": 97,
      "outputs": [
        {
          "output_type": "execute_result",
          "data": {
            "text/plain": [
              "Text(0.5, 0, 'Hotel')"
            ]
          },
          "metadata": {
            "tags": []
          },
          "execution_count": 97
        },
        {
          "output_type": "display_data",
          "data": {
            "image/png": "[encoded data removed]",
            "text/plain": [
              "<Figure size 720x360 with 1 Axes>"
            ]
          },
          "metadata": {
            "tags": [],
            "needs_background": "light"
          }
        }
      ]
    },
    {
      "cell_type": "markdown",
      "metadata": {
        "id": "OY9EJYE7PJYM"
      },
      "source": [
        "So clearly it costs more to stay in a city hotel than in a resort hotel. This data is also in sync with our previous analysis in which we found out that the city hotel was in more demand than the resort hotel and obviously more the demand greater the price, <b>basic economics folks! </b>"
      ]
    },
    {
      "cell_type": "markdown",
      "metadata": {
        "id": "7tW-SwVcWKjL"
      },
      "source": [
        "#<b>Now let's go a bit deeper and see what kind of further exciting insights can we draw using our EDA of this dataframe which can ultimately be of benefit to a customer.</b> \n",
        "##Suppose you are from a country 'x' and you want to book a room for stay and you are confused about picking either  a resort hotel or a city hotel, then it does make sense to check what the folks from your own country are prefering the most. \n",
        "Here we try to see what people from top ten countries by bookings have chosen as their meal category.\n",
        "choose the most only include those bookings which weren't cancelled at a later stage, In that case let's go ahead and do that."
      ]
    },
    {
      "cell_type": "code",
      "metadata": {
        "id": "1tktDk1cMzSS"
      },
      "source": [
        "# Perform a groupby operation and obtain the value counts\n",
        "hotel_vs_country = new_df[new_df['is_canceled']==0].groupby('country',as_index=True)['hotel'].value_counts()"
      ],
      "execution_count": 98,
      "outputs": []
    },
    {
      "cell_type": "code",
      "metadata": {
        "colab": {
          "base_uri": "https://localhost:8080/",
          "height": 359
        },
        "id": "PPpoA3znX_P2",
        "outputId": "b6440e87-c1b5-435f-9591-87ff524a517d"
      },
      "source": [
        "#Perform a sort on the produced series\n",
        "hotel_vs_country = hotel_vs_country.sort_values(ascending=False)\n",
        "#create a dataframe from the series\n",
        "hotel_vs_country_df = pd.DataFrame(hotel_vs_country)\n",
        "\n",
        "#Rename the only column the dataframe has as the no of bookings\n",
        "hotel_vs_country_df.columns= ['no of bookings']\n",
        "\n",
        "\n",
        "#We reset the index to make a full fledged dataframe\n",
        "hotel_vs_country_df = hotel_vs_country_df.reset_index()\n",
        "\n",
        "#Let's consider only top ten countries by bookings\n",
        "hotel_vs_country_df.head(10)"
      ],
      "execution_count": 99,
      "outputs": [
        {
          "output_type": "execute_result",
          "data": {
            "text/html": [
              "<div>\n",
              "<style scoped>\n",
              "    .dataframe tbody tr th:only-of-type {\n",
              "        vertical-align: middle;\n",
              "    }\n",
              "\n",
              "    .dataframe tbody tr th {\n",
              "        vertical-align: top;\n",
              "    }\n",
              "\n",
              "    .dataframe thead th {\n",
              "        text-align: right;\n",
              "    }\n",
              "</style>\n",
              "<table border=\"1\" class=\"dataframe\">\n",
              "  <thead>\n",
              "    <tr style=\"text-align: right;\">\n",
              "      <th></th>\n",
              "      <th>country</th>\n",
              "      <th>hotel</th>\n",
              "      <th>no of bookings</th>\n",
              "    </tr>\n",
              "  </thead>\n",
              "  <tbody>\n",
              "    <tr>\n",
              "      <th>0</th>\n",
              "      <td>PRT</td>\n",
              "      <td>City Hotel</td>\n",
              "      <td>10879</td>\n",
              "    </tr>\n",
              "    <tr>\n",
              "      <th>1</th>\n",
              "      <td>PRT</td>\n",
              "      <td>Resort Hotel</td>\n",
              "      <td>10192</td>\n",
              "    </tr>\n",
              "    <tr>\n",
              "      <th>2</th>\n",
              "      <td>FRA</td>\n",
              "      <td>City Hotel</td>\n",
              "      <td>7081</td>\n",
              "    </tr>\n",
              "    <tr>\n",
              "      <th>3</th>\n",
              "      <td>GBR</td>\n",
              "      <td>Resort Hotel</td>\n",
              "      <td>5923</td>\n",
              "    </tr>\n",
              "    <tr>\n",
              "      <th>4</th>\n",
              "      <td>DEU</td>\n",
              "      <td>City Hotel</td>\n",
              "      <td>5012</td>\n",
              "    </tr>\n",
              "    <tr>\n",
              "      <th>5</th>\n",
              "      <td>GBR</td>\n",
              "      <td>City Hotel</td>\n",
              "      <td>3753</td>\n",
              "    </tr>\n",
              "    <tr>\n",
              "      <th>6</th>\n",
              "      <td>ESP</td>\n",
              "      <td>City Hotel</td>\n",
              "      <td>3285</td>\n",
              "    </tr>\n",
              "    <tr>\n",
              "      <th>7</th>\n",
              "      <td>ESP</td>\n",
              "      <td>Resort Hotel</td>\n",
              "      <td>3106</td>\n",
              "    </tr>\n",
              "    <tr>\n",
              "      <th>8</th>\n",
              "      <td>ITA</td>\n",
              "      <td>City Hotel</td>\n",
              "      <td>2054</td>\n",
              "    </tr>\n",
              "    <tr>\n",
              "      <th>9</th>\n",
              "      <td>IRL</td>\n",
              "      <td>Resort Hotel</td>\n",
              "      <td>1734</td>\n",
              "    </tr>\n",
              "  </tbody>\n",
              "</table>\n",
              "</div>"
            ],
            "text/plain": [
              "  country         hotel  no of bookings\n",
              "0     PRT    City Hotel           10879\n",
              "1     PRT  Resort Hotel           10192\n",
              "2     FRA    City Hotel            7081\n",
              "3     GBR  Resort Hotel            5923\n",
              "4     DEU    City Hotel            5012\n",
              "5     GBR    City Hotel            3753\n",
              "6     ESP    City Hotel            3285\n",
              "7     ESP  Resort Hotel            3106\n",
              "8     ITA    City Hotel            2054\n",
              "9     IRL  Resort Hotel            1734"
            ]
          },
          "metadata": {
            "tags": []
          },
          "execution_count": 99
        }
      ]
    },
    {
      "cell_type": "code",
      "metadata": {
        "id": "B-7EMuMl9jQF"
      },
      "source": [
        "my_df = hotel_vs_country_df.head(10)\n",
        "city_hotel_df = my_df[my_df['hotel']=='City Hotel'][['country','no of bookings']]\n",
        "resort_hotel_df = my_df[my_df['hotel']=='Resort Hotel'][['country','no of bookings']]"
      ],
      "execution_count": 100,
      "outputs": []
    },
    {
      "cell_type": "code",
      "metadata": {
        "id": "WpDrkVJ19oD5"
      },
      "source": [
        "city_hotel_df.set_index('country',inplace=True)\n",
        "resort_hotel_df.set_index('country',inplace=True)\n"
      ],
      "execution_count": 101,
      "outputs": []
    },
    {
      "cell_type": "code",
      "metadata": {
        "id": "nkZtV2cjROMV",
        "colab": {
          "base_uri": "https://localhost:8080/",
          "height": 377
        },
        "outputId": "b550c4e1-5fce-460d-f77d-9b0bd7f4db62"
      },
      "source": [
        "#Draw a plot here\n",
        "plt.rcParams['figure.figsize'] = (10,5)\n",
        "\n",
        "plt.plot(city_hotel_df,label= 'City Hotel')\n",
        "plt.plot(resort_hotel_df,label= 'Resort Hotel')\n",
        "\n",
        "plt.xlabel('Country',fontdict={'fontsize':15})\n",
        "plt.ylabel('No. of Bookings',fontdict={'fontsize':15})\n",
        "plt.title('Bookings for top ten countries',fontdict={'fontsize':18})\n",
        "\n",
        "plt.legend()"
      ],
      "execution_count": 102,
      "outputs": [
        {
          "output_type": "execute_result",
          "data": {
            "text/plain": [
              "<matplotlib.legend.Legend at 0x7f47577eff50>"
            ]
          },
          "metadata": {
            "tags": []
          },
          "execution_count": 102
        },
        {
          "output_type": "display_data",
          "data": {
            "image/png": "[encoded data removed]",
            "text/plain": [
              "<Figure size 720x360 with 1 Axes>"
            ]
          },
          "metadata": {
            "tags": [],
            "needs_background": "light"
          }
        }
      ]
    },
    {
      "cell_type": "markdown",
      "metadata": {
        "id": "oRMoe-8hgV7U"
      },
      "source": [
        "As we can clearly tell from the graph if you are from portugal your slightly better choice will be a city hotel over a resort hotel and vice-versa for a french, similarly we can check for other countries as well."
      ]
    },
    {
      "cell_type": "markdown",
      "metadata": {
        "id": "ROEjw5a3g_5l"
      },
      "source": [
        "## If you are going to stay at a hotel and are paying hefty price in that order you better make sure that the food served at that place is of good quality.\n",
        " In order to do that we have a clue in the data, we will make use of meals column of our dataframe and find out what people are choosing to eat at a particular hotel, we can also relate it to a particular country and see if we can come up with a trend for each"
      ]
    },
    {
      "cell_type": "code",
      "metadata": {
        "colab": {
          "base_uri": "https://localhost:8080/"
        },
        "id": "wPqM5FV4f9NV",
        "outputId": "37db1588-b703-4487-e26d-7354078ad02a"
      },
      "source": [
        "#Check what categories of meal feature do we have in the data\n",
        "new_df['meal'].unique()"
      ],
      "execution_count": null,
      "outputs": [
        {
          "output_type": "execute_result",
          "data": {
            "text/plain": [
              "array(['BB', 'FB', 'HB', 'SC', 'Undefined'], dtype=object)"
            ]
          },
          "metadata": {
            "tags": []
          },
          "execution_count": 230
        }
      ]
    },
    {
      "cell_type": "markdown",
      "metadata": {
        "id": "Kw-nAnvIjN6F"
      },
      "source": [
        "##People at each hotel can choose from four categories of meals which they can book their respective stays with, let's briefly see what those are;\n",
        "1. Undefined/SC – no meal package\n",
        "2. BB – Bed & Breakfast \n",
        "3. HB – Half board (breakfast and one other meal – usually dinner)\n",
        "4. FB – Full board (breakfast, lunch and dinner)"
      ]
    },
    {
      "cell_type": "code",
      "metadata": {
        "colab": {
          "base_uri": "https://localhost:8080/"
        },
        "id": "1uSx4d0Mno5Z",
        "outputId": "a064659c-fbf1-4b00-8bcd-dbf2e910de4a"
      },
      "source": [
        "#First perform a groupby \n",
        "\n",
        "popular_meal_category = new_df.groupby(['hotel'])['meal'].value_counts()\n",
        "popular_meal_category\n"
      ],
      "execution_count": null,
      "outputs": [
        {
          "output_type": "execute_result",
          "data": {
            "text/plain": [
              "hotel         meal     \n",
              "City Hotel    BB           62305\n",
              "              SC           10564\n",
              "              HB            6417\n",
              "              FB              44\n",
              "Resort Hotel  BB           30005\n",
              "              HB            8046\n",
              "              Undefined     1169\n",
              "              FB             754\n",
              "              SC              86\n",
              "Name: meal, dtype: int64"
            ]
          },
          "metadata": {
            "tags": []
          },
          "execution_count": 231
        }
      ]
    },
    {
      "cell_type": "code",
      "metadata": {
        "id": "QaXYAr7lx2hQ",
        "colab": {
          "base_uri": "https://localhost:8080/",
          "height": 493
        },
        "outputId": "f8d8ee97-3f85-4c55-dda0-4656ee35c83f"
      },
      "source": [
        "#Define a figure size\n",
        "plt.rcParams['figure.figsize'] = (15,5)\n",
        "#Plot a bar graph\n",
        "popular_meal_category.plot(kind= 'bar')\n",
        "\n",
        "plt.ylabel('No. of bookings',fontdict={'fontsize':15})\n",
        "plt.xlabel('Hotel/Meal',fontdict={'fontsize':15})\n",
        "plt.title('Meals opted for in the two hotels',fontdict={'fontsize':15})"
      ],
      "execution_count": null,
      "outputs": [
        {
          "output_type": "execute_result",
          "data": {
            "text/plain": [
              "Text(0.5, 1.0, 'Meals opted for in the two hotels')"
            ]
          },
          "metadata": {
            "tags": []
          },
          "execution_count": 241
        },
        {
          "output_type": "display_data",
          "data": {
            "image/png": "[encoded data removed]",
            "text/plain": [
              "<Figure size 1080x360 with 1 Axes>"
            ]
          },
          "metadata": {
            "tags": [],
            "needs_background": "light"
          }
        }
      ]
    },
    {
      "cell_type": "markdown",
      "metadata": {
        "id": "V1khPgRrrxF1"
      },
      "source": [
        "We have made you life really easy by creating the above chart, let me explain how. We have each hotel with respective food categories and the number of booking that people are doing in each hotel with each meal category, now it should not take you much long to figure out that be it Resort Hotel or city Hotel, people mostly prefer to go with the BB-category which is nothing more than bread and breakfast!"
      ]
    },
    {
      "cell_type": "markdown",
      "metadata": {
        "id": "Zo6pWHo4mo4K"
      },
      "source": [
        "##Now that we are done with the meals, let's go ahead and check out the rooms. I am sure you will need our help to figure out which rooms you should choose and which ones you should not!"
      ]
    },
    {
      "cell_type": "code",
      "metadata": {
        "colab": {
          "base_uri": "https://localhost:8080/"
        },
        "id": "R2R1om0HmM3g",
        "outputId": "e3def889-8954-40b2-d99f-a2334144d4b3"
      },
      "source": [
        "#Check the room categories we have\n",
        "new_df.reserved_room_type.nunique(),new_df.reserved_room_type.unique()"
      ],
      "execution_count": null,
      "outputs": [
        {
          "output_type": "execute_result",
          "data": {
            "text/plain": [
              "(10, array(['C', 'A', 'D', 'E', 'G', 'F', 'H', 'L', 'P', 'B'], dtype=object))"
            ]
          },
          "metadata": {
            "tags": []
          },
          "execution_count": 233
        }
      ]
    },
    {
      "cell_type": "markdown",
      "metadata": {
        "id": "tYM1BzD0yYmo"
      },
      "source": [
        "##As we can see we have ten different room categories and each category must be better suited for certain customers, so we will try to find that very thing. This is how we will proceed;\n",
        "\n",
        "1. We will first take into consideration that only adults are staying in the hotel rooms and see if number of adults have a relation with rooms that they select.\n",
        "\n",
        "2. We will next do the same for children and babies, if there are any."
      ]
    },
    {
      "cell_type": "code",
      "metadata": {
        "colab": {
          "base_uri": "https://localhost:8080/"
        },
        "id": "xsKS9GKzhbQK",
        "outputId": "18b281f4-71bc-45d4-8e3a-d332affa642d"
      },
      "source": [
        "sorted(new_df.adults.unique())"
      ],
      "execution_count": null,
      "outputs": [
        {
          "output_type": "execute_result",
          "data": {
            "text/plain": [
              "[0, 1, 2, 3, 4, 5, 6, 10, 20, 26, 27, 40, 50, 55]"
            ]
          },
          "metadata": {
            "tags": []
          },
          "execution_count": 234
        }
      ]
    },
    {
      "cell_type": "markdown",
      "metadata": {
        "id": "VazWeiIjxDtJ"
      },
      "source": [
        "##Most of the travellers are either a single adult or a couple of adults, let's see if data can help us select better rooms for such travellers "
      ]
    },
    {
      "cell_type": "code",
      "metadata": {
        "id": "X4ZauMTBv-J5"
      },
      "source": [
        "#create a series with given boolen filtering\n",
        "adults_less_than_3 = new_df[(new_df['adults'] == 1) |(new_df['adults'] == 2)]['reserved_room_type'].value_counts()"
      ],
      "execution_count": null,
      "outputs": []
    },
    {
      "cell_type": "code",
      "metadata": {
        "colab": {
          "base_uri": "https://localhost:8080/",
          "height": 375
        },
        "id": "V5QU2-duv964",
        "outputId": "a655d13f-3630-4377-b503-d9d2898e20fa"
      },
      "source": [
        "#plot a bar graph to visualize the data\n",
        "plt.rcParams['figure.figsize'] = (10, 5)\n",
        "\n",
        "adults_less_than_3.plot(kind='bar')\n",
        "\n",
        "#Give title and x,y labels\n",
        "plt.title('Room types for 1 or 2 adults',fontdict = {'fontsize':18})\n",
        "plt.ylabel('No. of bookings',fontdict = {'fontsize':15})\n",
        "plt.xlabel('Room type',fontdict = {'fontsize':15})"
      ],
      "execution_count": null,
      "outputs": [
        {
          "output_type": "execute_result",
          "data": {
            "text/plain": [
              "Text(0.5, 0, 'Room type')"
            ]
          },
          "metadata": {
            "tags": []
          },
          "execution_count": 236
        },
        {
          "output_type": "display_data",
          "data": {
            "image/png": "[encoded data removed]",
            "text/plain": [
              "<Figure size 720x360 with 1 Axes>"
            ]
          },
          "metadata": {
            "tags": [],
            "needs_background": "light"
          }
        }
      ]
    },
    {
      "cell_type": "markdown",
      "metadata": {
        "id": "YoMQjIwcxg1b"
      },
      "source": [
        "Clearly such travellers have gone overwhelmingly with A-type rooms, there is no reason you shouldn't too!"
      ]
    },
    {
      "cell_type": "markdown",
      "metadata": {
        "id": "aaedDKuxBNSO"
      },
      "source": [
        "##In case you are travelling with 3 adults "
      ]
    },
    {
      "cell_type": "code",
      "metadata": {
        "colab": {
          "base_uri": "https://localhost:8080/",
          "height": 374
        },
        "id": "D2v9AL-fBMIx",
        "outputId": "2a67bb76-76fb-4629-d967-0a5f79788aae"
      },
      "source": [
        "#create a series with given boolen filtering\n",
        "Three_adults = new_df[new_df['adults'] == 3]['reserved_room_type'].value_counts()\n",
        "#plot a bar graph to visualize the data\n",
        "plt.rcParams['figure.figsize'] = (15, 5)\n",
        "\n",
        "Three_adults.plot(kind='bar')\n",
        "\n",
        "#Give title and x,y labels\n",
        "plt.title('Three adults v/s room taken',fontdict = {'fontsize':20})\n",
        "plt.ylabel('No. of bookings',fontdict = {'fontsize':13})\n",
        "plt.xlabel('Room type',fontdict = {'fontsize':13})"
      ],
      "execution_count": null,
      "outputs": [
        {
          "output_type": "execute_result",
          "data": {
            "text/plain": [
              "Text(0.5, 0, 'Room type')"
            ]
          },
          "metadata": {
            "tags": []
          },
          "execution_count": 237
        },
        {
          "output_type": "display_data",
          "data": {
            "image/png": "[encoded data removed]",
            "text/plain": [
              "<Figure size 1080x360 with 1 Axes>"
            ]
          },
          "metadata": {
            "tags": [],
            "needs_background": "light"
          }
        }
      ]
    },
    {
      "cell_type": "markdown",
      "metadata": {
        "id": "8QnNQyxcCUtb"
      },
      "source": [
        "Hence room type-D is the most preffered room in this case followed by room type-A"
      ]
    },
    {
      "cell_type": "markdown",
      "metadata": {
        "id": "TFZfP1dbuYoj"
      },
      "source": [
        "##There aren't many people who are booking rooms for more than four people, but in case you are one of them you can easily choose from A,E,D room types in the same order of priority."
      ]
    },
    {
      "cell_type": "code",
      "metadata": {
        "id": "LeBXNhd8w0b7",
        "colab": {
          "base_uri": "https://localhost:8080/",
          "height": 374
        },
        "outputId": "1f8d38db-e73f-49e0-fa6c-abd80373bf1f"
      },
      "source": [
        "#Create a series based on required boolean condition\n",
        "more_adults = new_df[(new_df['adults'] >4) & (new_df['adults'] <55)]['reserved_room_type'].value_counts()\n",
        "#plot a bar graph to visualize the data\n",
        "plt.rcParams['figure.figsize'] = (15, 5)\n",
        "\n",
        "more_adults.plot(kind='bar')\n",
        "\n",
        "#Give title and x,y labels\n",
        "plt.title('Room types chosen by more than 4 adults',fontdict = {'fontsize':20})\n",
        "plt.ylabel('No. of bookings',fontdict = {'fontsize':13})\n",
        "plt.xlabel('Room type',fontdict = {'fontsize':13})"
      ],
      "execution_count": null,
      "outputs": [
        {
          "output_type": "execute_result",
          "data": {
            "text/plain": [
              "Text(0.5, 0, 'Room type')"
            ]
          },
          "metadata": {
            "tags": []
          },
          "execution_count": 242
        },
        {
          "output_type": "display_data",
          "data": {
            "image/png": "[encoded data removed]",
            "text/plain": [
              "<Figure size 1080x360 with 1 Axes>"
            ]
          },
          "metadata": {
            "tags": [],
            "needs_background": "light"
          }
        }
      ]
    },
    {
      "cell_type": "markdown",
      "metadata": {
        "id": "nviLB474j5-t"
      },
      "source": [
        "##If in case there are no adults checking in then we are left with children and babies, this is absolutely possible because adults can book rooms for their children at places they aren't themselves moving to. Let's just take a look at what data has to say about this!"
      ]
    },
    {
      "cell_type": "code",
      "metadata": {
        "colab": {
          "base_uri": "https://localhost:8080/",
          "height": 419
        },
        "id": "XQP5969phl-c",
        "outputId": "3c297d3e-4ea0-4d9d-8938-2fc02b5b338b"
      },
      "source": [
        "new_df[new_df['adults'] == 0][['children','babies',]]"
      ],
      "execution_count": null,
      "outputs": [
        {
          "output_type": "execute_result",
          "data": {
            "text/html": [
              "<div>\n",
              "<style scoped>\n",
              "    .dataframe tbody tr th:only-of-type {\n",
              "        vertical-align: middle;\n",
              "    }\n",
              "\n",
              "    .dataframe tbody tr th {\n",
              "        vertical-align: top;\n",
              "    }\n",
              "\n",
              "    .dataframe thead th {\n",
              "        text-align: right;\n",
              "    }\n",
              "</style>\n",
              "<table border=\"1\" class=\"dataframe\">\n",
              "  <thead>\n",
              "    <tr style=\"text-align: right;\">\n",
              "      <th></th>\n",
              "      <th>children</th>\n",
              "      <th>babies</th>\n",
              "    </tr>\n",
              "  </thead>\n",
              "  <tbody>\n",
              "    <tr>\n",
              "      <th>2224</th>\n",
              "      <td>0.0</td>\n",
              "      <td>0</td>\n",
              "    </tr>\n",
              "    <tr>\n",
              "      <th>2409</th>\n",
              "      <td>0.0</td>\n",
              "      <td>0</td>\n",
              "    </tr>\n",
              "    <tr>\n",
              "      <th>3181</th>\n",
              "      <td>0.0</td>\n",
              "      <td>0</td>\n",
              "    </tr>\n",
              "    <tr>\n",
              "      <th>3684</th>\n",
              "      <td>0.0</td>\n",
              "      <td>0</td>\n",
              "    </tr>\n",
              "    <tr>\n",
              "      <th>3708</th>\n",
              "      <td>0.0</td>\n",
              "      <td>0</td>\n",
              "    </tr>\n",
              "    <tr>\n",
              "      <th>...</th>\n",
              "      <td>...</td>\n",
              "      <td>...</td>\n",
              "    </tr>\n",
              "    <tr>\n",
              "      <th>117204</th>\n",
              "      <td>2.0</td>\n",
              "      <td>0</td>\n",
              "    </tr>\n",
              "    <tr>\n",
              "      <th>117274</th>\n",
              "      <td>2.0</td>\n",
              "      <td>0</td>\n",
              "    </tr>\n",
              "    <tr>\n",
              "      <th>117303</th>\n",
              "      <td>2.0</td>\n",
              "      <td>0</td>\n",
              "    </tr>\n",
              "    <tr>\n",
              "      <th>117453</th>\n",
              "      <td>2.0</td>\n",
              "      <td>0</td>\n",
              "    </tr>\n",
              "    <tr>\n",
              "      <th>118200</th>\n",
              "      <td>3.0</td>\n",
              "      <td>0</td>\n",
              "    </tr>\n",
              "  </tbody>\n",
              "</table>\n",
              "<p>403 rows × 2 columns</p>\n",
              "</div>"
            ],
            "text/plain": [
              "        children  babies\n",
              "2224         0.0       0\n",
              "2409         0.0       0\n",
              "3181         0.0       0\n",
              "3684         0.0       0\n",
              "3708         0.0       0\n",
              "...          ...     ...\n",
              "117204       2.0       0\n",
              "117274       2.0       0\n",
              "117303       2.0       0\n",
              "117453       2.0       0\n",
              "118200       3.0       0\n",
              "\n",
              "[403 rows x 2 columns]"
            ]
          },
          "metadata": {
            "tags": []
          },
          "execution_count": 59
        }
      ]
    },
    {
      "cell_type": "markdown",
      "metadata": {
        "id": "2gJGVLlUk0ii"
      },
      "source": [
        "<i>As you might have expeced there are children without adults (of course there can be) but there are no babies (of course there can't be), makes sense right!</i>\n",
        "\n",
        "#Now let's say you want to send your kids somewhere and they are alone in this, in order for them to make the most of their trip and enjoy every moment you would want the best for your kids. But how do you select the best, don't get carried away, *everything shall be answered through the data*, just stay with us!"
      ]
    },
    {
      "cell_type": "code",
      "metadata": {
        "colab": {
          "base_uri": "https://localhost:8080/"
        },
        "id": "nDbuLCB7jmc_",
        "outputId": "e670f3c9-2f29-458d-954a-8ec5deedf9fd"
      },
      "source": [
        "#Create a dataframe with the condition that only children are staying\n",
        "children_only = new_df[new_df['adults'] == 0]['reserved_room_type'].value_counts()\n",
        "\n",
        "children_only"
      ],
      "execution_count": null,
      "outputs": [
        {
          "output_type": "execute_result",
          "data": {
            "text/plain": [
              "B    211\n",
              "A    131\n",
              "D     23\n",
              "E     17\n",
              "P     12\n",
              "F      5\n",
              "G      3\n",
              "C      1\n",
              "Name: reserved_room_type, dtype: int64"
            ]
          },
          "metadata": {
            "tags": []
          },
          "execution_count": 105
        }
      ]
    },
    {
      "cell_type": "code",
      "metadata": {
        "colab": {
          "base_uri": "https://localhost:8080/",
          "height": 373
        },
        "id": "feDT2zDMmyNj",
        "outputId": "9fa71c0b-45f5-42b5-90e3-520c3f3e2c93"
      },
      "source": [
        "#plot a bar graph for above data\n",
        "plt.rcParams['figure.figsize'] = (15, 5)\n",
        "\n",
        "children_only.plot(kind='bar')\n",
        "\n",
        "#Give title and x,y labels\n",
        "plt.title('Children bookings against room types',fontdict = {'fontsize':20})\n",
        "plt.ylabel('No. of bookings',fontdict = {'fontsize':15})\n",
        "plt.xlabel('Room type',fontdict = {'fontsize':15})\n",
        "\n",
        "#Bar plot\n"
      ],
      "execution_count": null,
      "outputs": [
        {
          "output_type": "execute_result",
          "data": {
            "text/plain": [
              "Text(0.5, 0, 'Room type')"
            ]
          },
          "metadata": {
            "tags": []
          },
          "execution_count": 106
        },
        {
          "output_type": "display_data",
          "data": {
            "image/png": "[encoded data removed]",
            "text/plain": [
              "<Figure size 1080x360 with 1 Axes>"
            ]
          },
          "metadata": {
            "tags": [],
            "needs_background": "light"
          }
        }
      ]
    },
    {
      "cell_type": "markdown",
      "metadata": {
        "id": "ccPOWEFDslPD"
      },
      "source": [
        "Now the beautiful thing is that you don't need to be a data scientist to read this graph that we produced, results are pretty simple, if you are booking a hotel room for your kid Room-B will be the best choice for you only to be followed by Room-A, because that's where the big chunk of bookings is happening!"
      ]
    }
  ]
}