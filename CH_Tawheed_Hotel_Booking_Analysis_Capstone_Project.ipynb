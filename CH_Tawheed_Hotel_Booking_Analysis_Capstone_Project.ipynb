{
  "nbformat": 4,
  "nbformat_minor": 0,
  "metadata": {
    "kernelspec": {
      "display_name": "Python 3",
      "language": "python",
      "name": "python3"
    },
    "language_info": {
      "codemirror_mode": {
        "name": "ipython",
        "version": 3
      },
      "file_extension": ".py",
      "mimetype": "text/x-python",
      "name": "python",
      "nbconvert_exporter": "python",
      "pygments_lexer": "ipython3",
      "version": "3.6.6"
    },
    "colab": {
      "name": "CH - Tawheed - Hotel Booking Analysis - Capstone Project.ipynb",
      "provenance": [],
      "collapsed_sections": [],
      "include_colab_link": true
    }
  },
  "cells": [
    {
      "cell_type": "markdown",
      "metadata": {
        "id": "view-in-github",
        "colab_type": "text"
      },
      "source": [
        "<a href=\"https://colab.research.google.com/github/Tawheed-DS/Hotel-booking-analysis/blob/main/CH_Tawheed_Hotel_Booking_Analysis_Capstone_Project.ipynb\" target=\"_parent\"><img src=\"https://colab.research.google.com/assets/colab-badge.svg\" alt=\"Open In Colab\"/></a>"
      ]
    },
    {
      "cell_type": "markdown",
      "metadata": {
        "id": "Y06xIdG26kRF"
      },
      "source": [
        "## <b> Have you ever wondered when the best time of year to book a hotel room is? Or the optimal length of stay in order to get the best daily rate? What if you wanted to predict whether or not a hotel was likely to receive a disproportionately high number of special requests? This hotel booking dataset can help you explore those questions!\n",
        "\n",
        "## <b>This data set contains booking information for a city hotel and a resort hotel, and includes information such as when the booking was made, length of stay, the number of adults, children, and/or babies, and the number of available parking spaces, among other things. All personally identifying information has been removed from the data. </b>\n",
        "\n",
        "## <b> Explore and analyze the data to discover important factors that govern the bookings. </b>"
      ]
    },
    {
      "cell_type": "code",
      "metadata": {
        "colab": {
          "base_uri": "https://localhost:8080/"
        },
        "id": "YQecxUQyECBB",
        "outputId": "e21f0ccf-4b5e-4bff-8b52-6678720684ca"
      },
      "source": [
        "from google.colab import drive\n",
        "drive.mount('/content/drive')"
      ],
      "execution_count": 1,
      "outputs": [
        {
          "output_type": "stream",
          "text": [
            "Mounted at /content/drive\n"
          ],
          "name": "stdout"
        }
      ]
    },
    {
      "cell_type": "code",
      "metadata": {
        "id": "dByMsuzT8Tnw"
      },
      "source": [
        "path = '/content/drive/MyDrive/Data files/Copy of Hotel Bookings.csv'"
      ],
      "execution_count": 2,
      "outputs": []
    },
    {
      "cell_type": "code",
      "metadata": {
        "id": "mtHoXWxGEu7z"
      },
      "source": [
        "import pandas as pd\n",
        "import numpy as np\n",
        "import matplotlib.pyplot as plt\n",
        "import seaborn as sns\n",
        "\n",
        "%matplotlib inline\n"
      ],
      "execution_count": 94,
      "outputs": []
    },
    {
      "cell_type": "markdown",
      "metadata": {
        "id": "a7o4fCAAMh4E"
      },
      "source": [
        "#Let's do some preliminary analysis for the start"
      ]
    },
    {
      "cell_type": "code",
      "metadata": {
        "id": "w4YMkyXrEdwN"
      },
      "source": [
        "#Read the Data file into a dataframe\n",
        "original_df = pd.read_csv(path)"
      ],
      "execution_count": 4,
      "outputs": []
    },
    {
      "cell_type": "code",
      "metadata": {
        "colab": {
          "base_uri": "https://localhost:8080/"
        },
        "id": "C-DBqfUVFEgy",
        "outputId": "fb040bde-215f-4b44-f82c-28a6b169012d"
      },
      "source": [
        "original_df.info()"
      ],
      "execution_count": 5,
      "outputs": [
        {
          "output_type": "stream",
          "text": [
            "<class 'pandas.core.frame.DataFrame'>\n",
            "RangeIndex: 119390 entries, 0 to 119389\n",
            "Data columns (total 32 columns):\n",
            " #   Column                          Non-Null Count   Dtype  \n",
            "---  ------                          --------------   -----  \n",
            " 0   hotel                           119390 non-null  object \n",
            " 1   is_canceled                     119390 non-null  int64  \n",
            " 2   lead_time                       119390 non-null  int64  \n",
            " 3   arrival_date_year               119390 non-null  int64  \n",
            " 4   arrival_date_month              119390 non-null  object \n",
            " 5   arrival_date_week_number        119390 non-null  int64  \n",
            " 6   arrival_date_day_of_month       119390 non-null  int64  \n",
            " 7   stays_in_weekend_nights         119390 non-null  int64  \n",
            " 8   stays_in_week_nights            119390 non-null  int64  \n",
            " 9   adults                          119390 non-null  int64  \n",
            " 10  children                        119386 non-null  float64\n",
            " 11  babies                          119390 non-null  int64  \n",
            " 12  meal                            119390 non-null  object \n",
            " 13  country                         118902 non-null  object \n",
            " 14  market_segment                  119390 non-null  object \n",
            " 15  distribution_channel            119390 non-null  object \n",
            " 16  is_repeated_guest               119390 non-null  int64  \n",
            " 17  previous_cancellations          119390 non-null  int64  \n",
            " 18  previous_bookings_not_canceled  119390 non-null  int64  \n",
            " 19  reserved_room_type              119390 non-null  object \n",
            " 20  assigned_room_type              119390 non-null  object \n",
            " 21  booking_changes                 119390 non-null  int64  \n",
            " 22  deposit_type                    119390 non-null  object \n",
            " 23  agent                           103050 non-null  float64\n",
            " 24  company                         6797 non-null    float64\n",
            " 25  days_in_waiting_list            119390 non-null  int64  \n",
            " 26  customer_type                   119390 non-null  object \n",
            " 27  adr                             119390 non-null  float64\n",
            " 28  required_car_parking_spaces     119390 non-null  int64  \n",
            " 29  total_of_special_requests       119390 non-null  int64  \n",
            " 30  reservation_status              119390 non-null  object \n",
            " 31  reservation_status_date         119390 non-null  object \n",
            "dtypes: float64(4), int64(16), object(12)\n",
            "memory usage: 29.1+ MB\n"
          ],
          "name": "stdout"
        }
      ]
    },
    {
      "cell_type": "markdown",
      "metadata": {
        "id": "dXpc9_dTM0hv"
      },
      "source": [
        "### Clearly there are some features which may or may not be useful to us. Plus if we can do away with the columns which have missing values we can straighten out our Dataframe a bit.\n",
        " <i>For now let's see how many null values do we have in each column and which one has the highest</i>"
      ]
    },
    {
      "cell_type": "code",
      "metadata": {
        "colab": {
          "base_uri": "https://localhost:8080/"
        },
        "id": "aAv9fT3hpegN",
        "outputId": "9a461255-58bf-47d9-c06f-53a297e8aa3f"
      },
      "source": [
        "original_df.isnull().sum()"
      ],
      "execution_count": 6,
      "outputs": [
        {
          "output_type": "execute_result",
          "data": {
            "text/plain": [
              "hotel                                  0\n",
              "is_canceled                            0\n",
              "lead_time                              0\n",
              "arrival_date_year                      0\n",
              "arrival_date_month                     0\n",
              "arrival_date_week_number               0\n",
              "arrival_date_day_of_month              0\n",
              "stays_in_weekend_nights                0\n",
              "stays_in_week_nights                   0\n",
              "adults                                 0\n",
              "children                               4\n",
              "babies                                 0\n",
              "meal                                   0\n",
              "country                              488\n",
              "market_segment                         0\n",
              "distribution_channel                   0\n",
              "is_repeated_guest                      0\n",
              "previous_cancellations                 0\n",
              "previous_bookings_not_canceled         0\n",
              "reserved_room_type                     0\n",
              "assigned_room_type                     0\n",
              "booking_changes                        0\n",
              "deposit_type                           0\n",
              "agent                              16340\n",
              "company                           112593\n",
              "days_in_waiting_list                   0\n",
              "customer_type                          0\n",
              "adr                                    0\n",
              "required_car_parking_spaces            0\n",
              "total_of_special_requests              0\n",
              "reservation_status                     0\n",
              "reservation_status_date                0\n",
              "dtype: int64"
            ]
          },
          "metadata": {
            "tags": []
          },
          "execution_count": 6
        }
      ]
    },
    {
      "cell_type": "markdown",
      "metadata": {
        "id": "qbQnTBBcOp7D"
      },
      "source": [
        "##There are about 4 columns in the Dataframe which have null values and none of the datatypes seem to be misplaced. Folks! we have a surprisingly clean dataframe, cheers!\n",
        " Let's delve a bit deeper and see what are the unique values in number and in kind!"
      ]
    },
    {
      "cell_type": "code",
      "metadata": {
        "colab": {
          "base_uri": "https://localhost:8080/"
        },
        "id": "ropYI2lOqpjH",
        "outputId": "fff22ab2-229e-4cb0-a181-9d12d13dc5b3"
      },
      "source": [
        "original_df.nunique()"
      ],
      "execution_count": 7,
      "outputs": [
        {
          "output_type": "execute_result",
          "data": {
            "text/plain": [
              "hotel                                2\n",
              "is_canceled                          2\n",
              "lead_time                          479\n",
              "arrival_date_year                    3\n",
              "arrival_date_month                  12\n",
              "arrival_date_week_number            53\n",
              "arrival_date_day_of_month           31\n",
              "stays_in_weekend_nights             17\n",
              "stays_in_week_nights                35\n",
              "adults                              14\n",
              "children                             5\n",
              "babies                               5\n",
              "meal                                 5\n",
              "country                            177\n",
              "market_segment                       8\n",
              "distribution_channel                 5\n",
              "is_repeated_guest                    2\n",
              "previous_cancellations              15\n",
              "previous_bookings_not_canceled      73\n",
              "reserved_room_type                  10\n",
              "assigned_room_type                  12\n",
              "booking_changes                     21\n",
              "deposit_type                         3\n",
              "agent                              333\n",
              "company                            352\n",
              "days_in_waiting_list               128\n",
              "customer_type                        4\n",
              "adr                               8879\n",
              "required_car_parking_spaces          5\n",
              "total_of_special_requests            6\n",
              "reservation_status                   3\n",
              "reservation_status_date            926\n",
              "dtype: int64"
            ]
          },
          "metadata": {
            "tags": []
          },
          "execution_count": 7
        }
      ]
    },
    {
      "cell_type": "code",
      "metadata": {
        "colab": {
          "base_uri": "https://localhost:8080/"
        },
        "id": "1CkglP82rmlC",
        "outputId": "7592340b-d5be-43be-e7df-60d58307481b"
      },
      "source": [
        "original_df['distribution_channel'].unique()"
      ],
      "execution_count": 8,
      "outputs": [
        {
          "output_type": "execute_result",
          "data": {
            "text/plain": [
              "array(['Direct', 'Corporate', 'TA/TO', 'Undefined', 'GDS'], dtype=object)"
            ]
          },
          "metadata": {
            "tags": []
          },
          "execution_count": 8
        }
      ]
    },
    {
      "cell_type": "markdown",
      "metadata": {
        "id": "LAM_1xMCJFLZ"
      },
      "source": [
        "#Let's get rid of the rudimentary stuff already!\n",
        " <i>So here the columns we are going to keep and the ones we will just throw out, take a peek!</i>"
      ]
    },
    {
      "cell_type": "code",
      "metadata": {
        "colab": {
          "base_uri": "https://localhost:8080/"
        },
        "id": "AaX2gXQgsk9J",
        "outputId": "52b6406e-c188-495a-868e-ad78e5b052ee"
      },
      "source": [
        "#Columns in the original dataframe\n",
        "original_df.columns"
      ],
      "execution_count": 9,
      "outputs": [
        {
          "output_type": "execute_result",
          "data": {
            "text/plain": [
              "Index(['hotel', 'is_canceled', 'lead_time', 'arrival_date_year',\n",
              "       'arrival_date_month', 'arrival_date_week_number',\n",
              "       'arrival_date_day_of_month', 'stays_in_weekend_nights',\n",
              "       'stays_in_week_nights', 'adults', 'children', 'babies', 'meal',\n",
              "       'country', 'market_segment', 'distribution_channel',\n",
              "       'is_repeated_guest', 'previous_cancellations',\n",
              "       'previous_bookings_not_canceled', 'reserved_room_type',\n",
              "       'assigned_room_type', 'booking_changes', 'deposit_type', 'agent',\n",
              "       'company', 'days_in_waiting_list', 'customer_type', 'adr',\n",
              "       'required_car_parking_spaces', 'total_of_special_requests',\n",
              "       'reservation_status', 'reservation_status_date'],\n",
              "      dtype='object')"
            ]
          },
          "metadata": {
            "tags": []
          },
          "execution_count": 9
        }
      ]
    },
    {
      "cell_type": "code",
      "metadata": {
        "id": "HBme21Ib4Ub6"
      },
      "source": [
        "#List of columns we would like to keep\n",
        "features_of_interest = ['hotel', 'is_canceled', 'lead_time', 'arrival_date_year',\n",
        "       'arrival_date_month','arrival_date_day_of_month','stays_in_weekend_nights',\n",
        "       'stays_in_week_nights','children', 'babies', 'meal',\n",
        "       'country', 'market_segment', 'distribution_channel',\n",
        "       'is_repeated_guest', 'previous_cancellations',\n",
        "       'previous_bookings_not_canceled', 'reserved_room_type',\n",
        "       'assigned_room_type', 'booking_changes', 'deposit_type',\n",
        "       'days_in_waiting_list', 'customer_type', 'adr',\n",
        "       'total_of_special_requests',\n",
        "       'reservation_status']"
      ],
      "execution_count": 10,
      "outputs": []
    },
    {
      "cell_type": "code",
      "metadata": {
        "id": "HhMFow9b4iT1"
      },
      "source": [
        "#list of columns we will drop\n",
        "features_to_be_dropped = ['arrival_date_week_number',\n",
        "                          'agent','company',\n",
        "                          'reservation_status_date']"
      ],
      "execution_count": 11,
      "outputs": []
    },
    {
      "cell_type": "markdown",
      "metadata": {
        "id": "k8XIK2_8RfZp"
      },
      "source": [
        "##Now we don't want to ruin the original data here so will begin with creating a copy of it so we can lay our hands on it without having to be afraid of ruining the whole show!"
      ]
    },
    {
      "cell_type": "code",
      "metadata": {
        "id": "eq1wKd6u6e5o"
      },
      "source": [
        "#Creating a copy of original dataframe using (.copy) method\n",
        "new_df = original_df.copy()"
      ],
      "execution_count": 12,
      "outputs": []
    },
    {
      "cell_type": "markdown",
      "metadata": {
        "id": "IdIDST0AS83C"
      },
      "source": [
        "##There are 4 missing values in the children column, we can easily assume that those people brought no children to the party!\n",
        " <i>Okay so let's assume that and also let's get on with dropping columns</i>"
      ]
    },
    {
      "cell_type": "code",
      "metadata": {
        "id": "RXr4hj7u5tCY"
      },
      "source": [
        "# Replace null values in children column with zero\n",
        "new_df.loc[new_df.children.isnull(),'children'] = 0"
      ],
      "execution_count": 13,
      "outputs": []
    },
    {
      "cell_type": "code",
      "metadata": {
        "id": "uGIpiaMq6vOx"
      },
      "source": [
        "# Drop the columns which don't provide any usable information\n",
        "new_df.drop(columns=['agent','company','arrival_date_week_number',\n",
        "                     'reservation_status_date'],inplace=True)"
      ],
      "execution_count": 14,
      "outputs": []
    },
    {
      "cell_type": "markdown",
      "metadata": {
        "id": "VyqsVimPUnDG"
      },
      "source": [
        "##So we are down by five columns, we use this dataframe now onwards and in case we change our mind about something we also have original data with us <i>so chill!</i>\n",
        " <b>Now let's have a look at the brand new dataframe </b>"
      ]
    },
    {
      "cell_type": "code",
      "metadata": {
        "colab": {
          "base_uri": "https://localhost:8080/"
        },
        "id": "j1cshXV97L5G",
        "outputId": "f396598c-167e-435b-dc71-0d610e7d4cc4"
      },
      "source": [
        "#The new dataframe info\n",
        "new_df.info()"
      ],
      "execution_count": 15,
      "outputs": [
        {
          "output_type": "stream",
          "text": [
            "<class 'pandas.core.frame.DataFrame'>\n",
            "RangeIndex: 119390 entries, 0 to 119389\n",
            "Data columns (total 28 columns):\n",
            " #   Column                          Non-Null Count   Dtype  \n",
            "---  ------                          --------------   -----  \n",
            " 0   hotel                           119390 non-null  object \n",
            " 1   is_canceled                     119390 non-null  int64  \n",
            " 2   lead_time                       119390 non-null  int64  \n",
            " 3   arrival_date_year               119390 non-null  int64  \n",
            " 4   arrival_date_month              119390 non-null  object \n",
            " 5   arrival_date_day_of_month       119390 non-null  int64  \n",
            " 6   stays_in_weekend_nights         119390 non-null  int64  \n",
            " 7   stays_in_week_nights            119390 non-null  int64  \n",
            " 8   adults                          119390 non-null  int64  \n",
            " 9   children                        119390 non-null  float64\n",
            " 10  babies                          119390 non-null  int64  \n",
            " 11  meal                            119390 non-null  object \n",
            " 12  country                         118902 non-null  object \n",
            " 13  market_segment                  119390 non-null  object \n",
            " 14  distribution_channel            119390 non-null  object \n",
            " 15  is_repeated_guest               119390 non-null  int64  \n",
            " 16  previous_cancellations          119390 non-null  int64  \n",
            " 17  previous_bookings_not_canceled  119390 non-null  int64  \n",
            " 18  reserved_room_type              119390 non-null  object \n",
            " 19  assigned_room_type              119390 non-null  object \n",
            " 20  booking_changes                 119390 non-null  int64  \n",
            " 21  deposit_type                    119390 non-null  object \n",
            " 22  days_in_waiting_list            119390 non-null  int64  \n",
            " 23  customer_type                   119390 non-null  object \n",
            " 24  adr                             119390 non-null  float64\n",
            " 25  required_car_parking_spaces     119390 non-null  int64  \n",
            " 26  total_of_special_requests       119390 non-null  int64  \n",
            " 27  reservation_status              119390 non-null  object \n",
            "dtypes: float64(2), int64(15), object(11)\n",
            "memory usage: 25.5+ MB\n"
          ],
          "name": "stdout"
        }
      ]
    },
    {
      "cell_type": "code",
      "metadata": {
        "colab": {
          "base_uri": "https://localhost:8080/",
          "height": 309
        },
        "id": "yq2KibxkI65Q",
        "outputId": "82bb950d-91cb-4171-b9ff-70f6d2d13ef4"
      },
      "source": [
        "new_df.head()"
      ],
      "execution_count": 16,
      "outputs": [
        {
          "output_type": "execute_result",
          "data": {
            "text/html": [
              "<div>\n",
              "<style scoped>\n",
              "    .dataframe tbody tr th:only-of-type {\n",
              "        vertical-align: middle;\n",
              "    }\n",
              "\n",
              "    .dataframe tbody tr th {\n",
              "        vertical-align: top;\n",
              "    }\n",
              "\n",
              "    .dataframe thead th {\n",
              "        text-align: right;\n",
              "    }\n",
              "</style>\n",
              "<table border=\"1\" class=\"dataframe\">\n",
              "  <thead>\n",
              "    <tr style=\"text-align: right;\">\n",
              "      <th></th>\n",
              "      <th>hotel</th>\n",
              "      <th>is_canceled</th>\n",
              "      <th>lead_time</th>\n",
              "      <th>arrival_date_year</th>\n",
              "      <th>arrival_date_month</th>\n",
              "      <th>arrival_date_day_of_month</th>\n",
              "      <th>stays_in_weekend_nights</th>\n",
              "      <th>stays_in_week_nights</th>\n",
              "      <th>adults</th>\n",
              "      <th>children</th>\n",
              "      <th>babies</th>\n",
              "      <th>meal</th>\n",
              "      <th>country</th>\n",
              "      <th>market_segment</th>\n",
              "      <th>distribution_channel</th>\n",
              "      <th>is_repeated_guest</th>\n",
              "      <th>previous_cancellations</th>\n",
              "      <th>previous_bookings_not_canceled</th>\n",
              "      <th>reserved_room_type</th>\n",
              "      <th>assigned_room_type</th>\n",
              "      <th>booking_changes</th>\n",
              "      <th>deposit_type</th>\n",
              "      <th>days_in_waiting_list</th>\n",
              "      <th>customer_type</th>\n",
              "      <th>adr</th>\n",
              "      <th>required_car_parking_spaces</th>\n",
              "      <th>total_of_special_requests</th>\n",
              "      <th>reservation_status</th>\n",
              "    </tr>\n",
              "  </thead>\n",
              "  <tbody>\n",
              "    <tr>\n",
              "      <th>0</th>\n",
              "      <td>Resort Hotel</td>\n",
              "      <td>0</td>\n",
              "      <td>342</td>\n",
              "      <td>2015</td>\n",
              "      <td>July</td>\n",
              "      <td>1</td>\n",
              "      <td>0</td>\n",
              "      <td>0</td>\n",
              "      <td>2</td>\n",
              "      <td>0.0</td>\n",
              "      <td>0</td>\n",
              "      <td>BB</td>\n",
              "      <td>PRT</td>\n",
              "      <td>Direct</td>\n",
              "      <td>Direct</td>\n",
              "      <td>0</td>\n",
              "      <td>0</td>\n",
              "      <td>0</td>\n",
              "      <td>C</td>\n",
              "      <td>C</td>\n",
              "      <td>3</td>\n",
              "      <td>No Deposit</td>\n",
              "      <td>0</td>\n",
              "      <td>Transient</td>\n",
              "      <td>0.0</td>\n",
              "      <td>0</td>\n",
              "      <td>0</td>\n",
              "      <td>Check-Out</td>\n",
              "    </tr>\n",
              "    <tr>\n",
              "      <th>1</th>\n",
              "      <td>Resort Hotel</td>\n",
              "      <td>0</td>\n",
              "      <td>737</td>\n",
              "      <td>2015</td>\n",
              "      <td>July</td>\n",
              "      <td>1</td>\n",
              "      <td>0</td>\n",
              "      <td>0</td>\n",
              "      <td>2</td>\n",
              "      <td>0.0</td>\n",
              "      <td>0</td>\n",
              "      <td>BB</td>\n",
              "      <td>PRT</td>\n",
              "      <td>Direct</td>\n",
              "      <td>Direct</td>\n",
              "      <td>0</td>\n",
              "      <td>0</td>\n",
              "      <td>0</td>\n",
              "      <td>C</td>\n",
              "      <td>C</td>\n",
              "      <td>4</td>\n",
              "      <td>No Deposit</td>\n",
              "      <td>0</td>\n",
              "      <td>Transient</td>\n",
              "      <td>0.0</td>\n",
              "      <td>0</td>\n",
              "      <td>0</td>\n",
              "      <td>Check-Out</td>\n",
              "    </tr>\n",
              "    <tr>\n",
              "      <th>2</th>\n",
              "      <td>Resort Hotel</td>\n",
              "      <td>0</td>\n",
              "      <td>7</td>\n",
              "      <td>2015</td>\n",
              "      <td>July</td>\n",
              "      <td>1</td>\n",
              "      <td>0</td>\n",
              "      <td>1</td>\n",
              "      <td>1</td>\n",
              "      <td>0.0</td>\n",
              "      <td>0</td>\n",
              "      <td>BB</td>\n",
              "      <td>GBR</td>\n",
              "      <td>Direct</td>\n",
              "      <td>Direct</td>\n",
              "      <td>0</td>\n",
              "      <td>0</td>\n",
              "      <td>0</td>\n",
              "      <td>A</td>\n",
              "      <td>C</td>\n",
              "      <td>0</td>\n",
              "      <td>No Deposit</td>\n",
              "      <td>0</td>\n",
              "      <td>Transient</td>\n",
              "      <td>75.0</td>\n",
              "      <td>0</td>\n",
              "      <td>0</td>\n",
              "      <td>Check-Out</td>\n",
              "    </tr>\n",
              "    <tr>\n",
              "      <th>3</th>\n",
              "      <td>Resort Hotel</td>\n",
              "      <td>0</td>\n",
              "      <td>13</td>\n",
              "      <td>2015</td>\n",
              "      <td>July</td>\n",
              "      <td>1</td>\n",
              "      <td>0</td>\n",
              "      <td>1</td>\n",
              "      <td>1</td>\n",
              "      <td>0.0</td>\n",
              "      <td>0</td>\n",
              "      <td>BB</td>\n",
              "      <td>GBR</td>\n",
              "      <td>Corporate</td>\n",
              "      <td>Corporate</td>\n",
              "      <td>0</td>\n",
              "      <td>0</td>\n",
              "      <td>0</td>\n",
              "      <td>A</td>\n",
              "      <td>A</td>\n",
              "      <td>0</td>\n",
              "      <td>No Deposit</td>\n",
              "      <td>0</td>\n",
              "      <td>Transient</td>\n",
              "      <td>75.0</td>\n",
              "      <td>0</td>\n",
              "      <td>0</td>\n",
              "      <td>Check-Out</td>\n",
              "    </tr>\n",
              "    <tr>\n",
              "      <th>4</th>\n",
              "      <td>Resort Hotel</td>\n",
              "      <td>0</td>\n",
              "      <td>14</td>\n",
              "      <td>2015</td>\n",
              "      <td>July</td>\n",
              "      <td>1</td>\n",
              "      <td>0</td>\n",
              "      <td>2</td>\n",
              "      <td>2</td>\n",
              "      <td>0.0</td>\n",
              "      <td>0</td>\n",
              "      <td>BB</td>\n",
              "      <td>GBR</td>\n",
              "      <td>Online TA</td>\n",
              "      <td>TA/TO</td>\n",
              "      <td>0</td>\n",
              "      <td>0</td>\n",
              "      <td>0</td>\n",
              "      <td>A</td>\n",
              "      <td>A</td>\n",
              "      <td>0</td>\n",
              "      <td>No Deposit</td>\n",
              "      <td>0</td>\n",
              "      <td>Transient</td>\n",
              "      <td>98.0</td>\n",
              "      <td>0</td>\n",
              "      <td>1</td>\n",
              "      <td>Check-Out</td>\n",
              "    </tr>\n",
              "  </tbody>\n",
              "</table>\n",
              "</div>"
            ],
            "text/plain": [
              "          hotel  is_canceled  ...  total_of_special_requests  reservation_status\n",
              "0  Resort Hotel            0  ...                          0           Check-Out\n",
              "1  Resort Hotel            0  ...                          0           Check-Out\n",
              "2  Resort Hotel            0  ...                          0           Check-Out\n",
              "3  Resort Hotel            0  ...                          0           Check-Out\n",
              "4  Resort Hotel            0  ...                          1           Check-Out\n",
              "\n",
              "[5 rows x 28 columns]"
            ]
          },
          "metadata": {
            "tags": []
          },
          "execution_count": 16
        }
      ]
    },
    {
      "cell_type": "markdown",
      "metadata": {
        "id": "Ik7xTHGlV1bL"
      },
      "source": [
        "#Let's get down to bussiness now!"
      ]
    },
    {
      "cell_type": "markdown",
      "metadata": {
        "id": "RJjtRL0ZIQp7"
      },
      "source": [
        "##We will begin by getting an idea about how each of the resort hotel and city hotel has performed for the given three years\n",
        "<b>Note: we will use a new dataframe in which only non cancelled bookings are taken into account so that a true picture of booking trend is revealed</b>"
      ]
    },
    {
      "cell_type": "code",
      "metadata": {
        "id": "UaJbJ_GiJ1hi"
      },
      "source": [
        "#Create a dataframe which has only non-cancelled bookings\n",
        "Non_cancelled_bookings = new_df[new_df['is_canceled']==0]"
      ],
      "execution_count": 196,
      "outputs": []
    },
    {
      "cell_type": "code",
      "metadata": {
        "colab": {
          "base_uri": "https://localhost:8080/"
        },
        "id": "0bsmWlwbD48t",
        "outputId": "d29fe3cd-f882-4e0a-a9ac-152af5c9b2b3"
      },
      "source": [
        "#Hotel types that we have\n",
        "Non_cancelled_bookings['hotel'].unique()"
      ],
      "execution_count": 187,
      "outputs": [
        {
          "output_type": "execute_result",
          "data": {
            "text/plain": [
              "array(['Resort Hotel', 'City Hotel'], dtype=object)"
            ]
          },
          "metadata": {
            "tags": []
          },
          "execution_count": 187
        }
      ]
    },
    {
      "cell_type": "markdown",
      "metadata": {
        "id": "duSuJ2uqIxOw"
      },
      "source": [
        "##Let's just take the resort hotel and look at the bookings that have been done there and see if the sales are in an uptrend or a downtrend."
      ]
    },
    {
      "cell_type": "code",
      "metadata": {
        "colab": {
          "base_uri": "https://localhost:8080/"
        },
        "id": "Utw5bojLEm3z",
        "outputId": "f7021073-45ae-4d8d-8c3c-47281c379943"
      },
      "source": [
        "#Apply required boolean filter\n",
        "resort_hotel_sales = Non_cancelled_bookings[Non_cancelled_bookings['hotel']=='Resort Hotel']['arrival_date_year'].value_counts()\n",
        "#Sort the series by years\n",
        "resort_hotel_sales = resort_hotel_sales.sort_index()\n",
        "resort_hotel_sales"
      ],
      "execution_count": 195,
      "outputs": [
        {
          "output_type": "execute_result",
          "data": {
            "text/plain": [
              "2015     6176\n",
              "2016    13637\n",
              "2017     9125\n",
              "Name: arrival_date_year, dtype: int64"
            ]
          },
          "metadata": {
            "tags": []
          },
          "execution_count": 195
        }
      ]
    },
    {
      "cell_type": "code",
      "metadata": {
        "colab": {
          "base_uri": "https://localhost:8080/",
          "height": 373
        },
        "id": "4yW6cCEnF0oF",
        "outputId": "65a00a48-8a31-4ca5-b73e-27db1fc3b116"
      },
      "source": [
        "#Create a figure of required size\n",
        "plt.rcParams['figure.figsize'] = (10, 5)\n",
        "# Create the plot object\n",
        "plt.plot(resort_hotel_sales)\n",
        "# x = index, y = value\n",
        "# dataframe (10 columns):   x = 'col5', y = 'col7'\n",
        "\n",
        "plt.title('Bookings curve for Resort Hotel three years',fontdict = {'fontsize':15})\n",
        "plt.ylabel('Total number of bookings',fontdict = {'fontsize':13})\n",
        "plt.xlabel('Year',fontdict = {'fontsize':13})\n"
      ],
      "execution_count": 201,
      "outputs": [
        {
          "output_type": "execute_result",
          "data": {
            "text/plain": [
              "Text(0.5, 0, 'Year')"
            ]
          },
          "metadata": {
            "tags": []
          },
          "execution_count": 201
        },
        {
          "output_type": "display_data",
          "data": {
            "image/png": "[encoded data removed]",
            "text/plain": [
              "<Figure size 720x360 with 1 Axes>"
            ]
          },
          "metadata": {
            "tags": [],
            "needs_background": "light"
          }
        }
      ]
    },
    {
      "cell_type": "markdown",
      "metadata": {
        "id": "WuKNJwpgJizh"
      },
      "source": [
        "## Now let's do the same for city hotel"
      ]
    },
    {
      "cell_type": "code",
      "metadata": {
        "colab": {
          "base_uri": "https://localhost:8080/"
        },
        "id": "caCL6jw9D4z5",
        "outputId": "b34edfbc-2400-4075-df95-faffc62e052b"
      },
      "source": [
        "#Apply the required boolean\n",
        "city_hotel_sales = Non_cancelled_bookings[Non_cancelled_bookings['hotel']=='City Hotel']['arrival_date_year'].value_counts()\n",
        "#Sort by years\n",
        "city_hotel_sales = city_hotel_sales.sort_index()\n",
        "city_hotel_sales"
      ],
      "execution_count": 193,
      "outputs": [
        {
          "output_type": "execute_result",
          "data": {
            "text/plain": [
              "2015     7678\n",
              "2016    22733\n",
              "2017    15817\n",
              "Name: arrival_date_year, dtype: int64"
            ]
          },
          "metadata": {
            "tags": []
          },
          "execution_count": 193
        }
      ]
    },
    {
      "cell_type": "code",
      "metadata": {
        "colab": {
          "base_uri": "https://localhost:8080/",
          "height": 373
        },
        "id": "jSKI1PwNHYin",
        "outputId": "281248b9-0a5b-4c84-852e-2717772f9d63"
      },
      "source": [
        "plt.rcParams['figure.figsize'] = (10, 5)\n",
        "# Create the plot object\n",
        "plt.plot(city_hotel_sales)\n",
        "# x = index, y = value\n",
        "# dataframe (10 columns):   x = 'col5', y = 'col7'\n",
        "\n",
        "plt.title('Bookings curve for City Hotel for three years',fontdict = {'fontsize':15})\n",
        "plt.ylabel('Total number of bookings',fontdict = {'fontsize':13})\n",
        "plt.xlabel('Year',fontdict = {'fontsize':13})\n"
      ],
      "execution_count": 202,
      "outputs": [
        {
          "output_type": "execute_result",
          "data": {
            "text/plain": [
              "Text(0.5, 0, 'Year')"
            ]
          },
          "metadata": {
            "tags": []
          },
          "execution_count": 202
        },
        {
          "output_type": "display_data",
          "data": {
            "image/png": "[encoded data removed]",
            "text/plain": [
              "<Figure size 720x360 with 1 Axes>"
            ]
          },
          "metadata": {
            "tags": [],
            "needs_background": "light"
          }
        }
      ]
    },
    {
      "cell_type": "markdown",
      "metadata": {
        "id": "nv192MC0LLka"
      },
      "source": [
        "When we take a look at each of the curves we can clearly see that bookings, (or sales because that's what they are) have fallen for both the hotels but for Resort Hotel they have fallen more sharply!"
      ]
    },
    {
      "cell_type": "markdown",
      "metadata": {
        "id": "Lbc1rNJTMlQA"
      },
      "source": [
        "#It would also be beneficial to see a price trend in each hotel"
      ]
    },
    {
      "cell_type": "code",
      "metadata": {
        "id": "iQ9CyuZ3LLKu"
      },
      "source": [
        "median_price = Non_cancelled_bookings.groupby('hotel')['adr'].median()\n"
      ],
      "execution_count": 216,
      "outputs": []
    },
    {
      "cell_type": "code",
      "metadata": {
        "colab": {
          "base_uri": "https://localhost:8080/",
          "height": 427
        },
        "id": "Bz_6bC0qOym9",
        "outputId": "39465b9e-7e2b-4ebe-bad1-46bab4a695b3"
      },
      "source": [
        "#plot a bar graph for above data\n",
        "plt.rcParams['figure.figsize'] = (10, 5)\n",
        "\n",
        "median_price.plot(kind='bar')\n",
        "\n",
        "#Give title and x,y labels\n",
        "plt.title('Median price for the two hotels',fontdict = {'fontsize':20})\n",
        "plt.ylabel('Median price',fontdict = {'fontsize':13})\n",
        "plt.xlabel('Hotel',fontdict = {'fontsize':13})"
      ],
      "execution_count": 219,
      "outputs": [
        {
          "output_type": "execute_result",
          "data": {
            "text/plain": [
              "Text(0.5, 0, 'Hotel')"
            ]
          },
          "metadata": {
            "tags": []
          },
          "execution_count": 219
        },
        {
          "output_type": "display_data",
          "data": {
            "image/png": "[encoded data removed]",
            "text/plain": [
              "<Figure size 720x360 with 1 Axes>"
            ]
          },
          "metadata": {
            "tags": [],
            "needs_background": "light"
          }
        }
      ]
    },
    {
      "cell_type": "markdown",
      "metadata": {
        "id": "OY9EJYE7PJYM"
      },
      "source": [
        "So clearly it costs more to stay in a city hotel than in a resort hotel. This data is also in sync with our previous analysis in which we found out that the city hotel was in more demand than the resort hotel and obviously more the demand greater the price, <b>basic economics folks! </b>"
      ]
    },
    {
      "cell_type": "markdown",
      "metadata": {
        "id": "7tW-SwVcWKjL"
      },
      "source": [
        "#<b>Now let's go a bit deeper and see what kind of further exciting insights can we draw using our EDA of this dataframe which can ultimately be of benefit to a customer.</b> \n",
        "##Suppose you are from a country 'x' and you want to book a room for stay and you are confused about picking either  a resort hotel or a city hotel, then it does make sense to check what the folks from your own country are prefering the most. \n",
        "We will only include those bookings which weren't cancelled at a later stage, In that case let's go ahead and do that."
      ]
    },
    {
      "cell_type": "code",
      "metadata": {
        "id": "1tktDk1cMzSS"
      },
      "source": [
        "# Perform a groupby operation and obtain the value counts\n",
        "hotel_vs_country = new_df[new_df['is_canceled']==0].groupby('country',as_index=True)['hotel'].value_counts()"
      ],
      "execution_count": 17,
      "outputs": []
    },
    {
      "cell_type": "code",
      "metadata": {
        "colab": {
          "base_uri": "https://localhost:8080/",
          "height": 419
        },
        "id": "PPpoA3znX_P2",
        "outputId": "a8a05774-dc51-470c-de04-3eeb130db53d"
      },
      "source": [
        "#Perform a sort on the produced series\n",
        "hotel_vs_country = hotel_vs_country.sort_values(ascending=False)\n",
        "#create a dataframe from the series\n",
        "hotel_vs_country_df = pd.DataFrame(hotel_vs_country)\n",
        "\n",
        "#Rename the only column the dataframe has as the no of bookings\n",
        "hotel_vs_country_df.columns= ['no of bookings']\n",
        "\n",
        "\n",
        "#We reset the index to make a full fledged dataframe\n",
        "hotel_vs_country_df = hotel_vs_country_df.reset_index()\n",
        "hotel_vs_country_df"
      ],
      "execution_count": 18,
      "outputs": [
        {
          "output_type": "execute_result",
          "data": {
            "text/html": [
              "<div>\n",
              "<style scoped>\n",
              "    .dataframe tbody tr th:only-of-type {\n",
              "        vertical-align: middle;\n",
              "    }\n",
              "\n",
              "    .dataframe tbody tr th {\n",
              "        vertical-align: top;\n",
              "    }\n",
              "\n",
              "    .dataframe thead th {\n",
              "        text-align: right;\n",
              "    }\n",
              "</style>\n",
              "<table border=\"1\" class=\"dataframe\">\n",
              "  <thead>\n",
              "    <tr style=\"text-align: right;\">\n",
              "      <th></th>\n",
              "      <th>country</th>\n",
              "      <th>hotel</th>\n",
              "      <th>no of bookings</th>\n",
              "    </tr>\n",
              "  </thead>\n",
              "  <tbody>\n",
              "    <tr>\n",
              "      <th>0</th>\n",
              "      <td>PRT</td>\n",
              "      <td>City Hotel</td>\n",
              "      <td>10879</td>\n",
              "    </tr>\n",
              "    <tr>\n",
              "      <th>1</th>\n",
              "      <td>PRT</td>\n",
              "      <td>Resort Hotel</td>\n",
              "      <td>10192</td>\n",
              "    </tr>\n",
              "    <tr>\n",
              "      <th>2</th>\n",
              "      <td>FRA</td>\n",
              "      <td>City Hotel</td>\n",
              "      <td>7081</td>\n",
              "    </tr>\n",
              "    <tr>\n",
              "      <th>3</th>\n",
              "      <td>GBR</td>\n",
              "      <td>Resort Hotel</td>\n",
              "      <td>5923</td>\n",
              "    </tr>\n",
              "    <tr>\n",
              "      <th>4</th>\n",
              "      <td>DEU</td>\n",
              "      <td>City Hotel</td>\n",
              "      <td>5012</td>\n",
              "    </tr>\n",
              "    <tr>\n",
              "      <th>...</th>\n",
              "      <td>...</td>\n",
              "      <td>...</td>\n",
              "      <td>...</td>\n",
              "    </tr>\n",
              "    <tr>\n",
              "      <th>263</th>\n",
              "      <td>PLW</td>\n",
              "      <td>Resort Hotel</td>\n",
              "      <td>1</td>\n",
              "    </tr>\n",
              "    <tr>\n",
              "      <th>264</th>\n",
              "      <td>PRI</td>\n",
              "      <td>City Hotel</td>\n",
              "      <td>1</td>\n",
              "    </tr>\n",
              "    <tr>\n",
              "      <th>265</th>\n",
              "      <td>BIH</td>\n",
              "      <td>Resort Hotel</td>\n",
              "      <td>1</td>\n",
              "    </tr>\n",
              "    <tr>\n",
              "      <th>266</th>\n",
              "      <td>PYF</td>\n",
              "      <td>City Hotel</td>\n",
              "      <td>1</td>\n",
              "    </tr>\n",
              "    <tr>\n",
              "      <th>267</th>\n",
              "      <td>NPL</td>\n",
              "      <td>Resort Hotel</td>\n",
              "      <td>1</td>\n",
              "    </tr>\n",
              "  </tbody>\n",
              "</table>\n",
              "<p>268 rows × 3 columns</p>\n",
              "</div>"
            ],
            "text/plain": [
              "    country         hotel  no of bookings\n",
              "0       PRT    City Hotel           10879\n",
              "1       PRT  Resort Hotel           10192\n",
              "2       FRA    City Hotel            7081\n",
              "3       GBR  Resort Hotel            5923\n",
              "4       DEU    City Hotel            5012\n",
              "..      ...           ...             ...\n",
              "263     PLW  Resort Hotel               1\n",
              "264     PRI    City Hotel               1\n",
              "265     BIH  Resort Hotel               1\n",
              "266     PYF    City Hotel               1\n",
              "267     NPL  Resort Hotel               1\n",
              "\n",
              "[268 rows x 3 columns]"
            ]
          },
          "metadata": {
            "tags": []
          },
          "execution_count": 18
        }
      ]
    },
    {
      "cell_type": "code",
      "metadata": {
        "id": "nkZtV2cjROMV"
      },
      "source": [
        "#Draw a plot here\n"
      ],
      "execution_count": null,
      "outputs": []
    },
    {
      "cell_type": "markdown",
      "metadata": {
        "id": "oRMoe-8hgV7U"
      },
      "source": [
        "As we can clearly tell from the dataframe if you are from portugal your slightly better choice will be a city hotel over a resort hotel, similarly we can check for other countries as well."
      ]
    },
    {
      "cell_type": "markdown",
      "metadata": {
        "id": "ROEjw5a3g_5l"
      },
      "source": [
        "## If you are going to stay at a hotel and are paying hefty price in that order you better make sure that the food served at that place is of good quality.\n",
        " In order to do that we have a clue in the data, we will make use of meals column of our dataframe and find out what people are choosing to eat at a particular hotel, we can also relate it to a particular country and see if we can come up with a trend for each"
      ]
    },
    {
      "cell_type": "code",
      "metadata": {
        "colab": {
          "base_uri": "https://localhost:8080/"
        },
        "id": "wPqM5FV4f9NV",
        "outputId": "7a611cd6-ba56-41f7-c23a-1958b1c7cd0c"
      },
      "source": [
        "#Check what categories of meal feature do we have in the data\n",
        "new_df['meal'].unique()"
      ],
      "execution_count": 19,
      "outputs": [
        {
          "output_type": "execute_result",
          "data": {
            "text/plain": [
              "array(['BB', 'FB', 'HB', 'SC', 'Undefined'], dtype=object)"
            ]
          },
          "metadata": {
            "tags": []
          },
          "execution_count": 19
        }
      ]
    },
    {
      "cell_type": "markdown",
      "metadata": {
        "id": "Kw-nAnvIjN6F"
      },
      "source": [
        "##People at each hotel can choose from four categories of meals which they can book their respective stays with, let's briefly see what those are;\n",
        "1. Undefined/SC – no meal package\n",
        "2. BB – Bed & Breakfast \n",
        "3. HB – Half board (breakfast and one other meal – usually dinner)\n",
        "4. FB – Full board (breakfast, lunch and dinner)"
      ]
    },
    {
      "cell_type": "code",
      "metadata": {
        "colab": {
          "base_uri": "https://localhost:8080/"
        },
        "id": "1uSx4d0Mno5Z",
        "outputId": "866c7d10-8a49-458f-cf0c-80dc60f264ee"
      },
      "source": [
        "#First perform a groupby \n",
        "\n",
        "popular_meal_category = new_df.groupby(['hotel'])['meal'].value_counts()\n",
        "popular_meal_category\n"
      ],
      "execution_count": 238,
      "outputs": [
        {
          "output_type": "execute_result",
          "data": {
            "text/plain": [
              "hotel         meal     \n",
              "City Hotel    BB           62305\n",
              "              SC           10564\n",
              "              HB            6417\n",
              "              FB              44\n",
              "Resort Hotel  BB           30005\n",
              "              HB            8046\n",
              "              Undefined     1169\n",
              "              FB             754\n",
              "              SC              86\n",
              "Name: meal, dtype: int64"
            ]
          },
          "metadata": {
            "tags": []
          },
          "execution_count": 238
        }
      ]
    },
    {
      "cell_type": "code",
      "metadata": {
        "id": "QaXYAr7lx2hQ",
        "colab": {
          "base_uri": "https://localhost:8080/",
          "height": 469
        },
        "outputId": "e1d76525-1587-4303-e7ec-ce677637e1d0"
      },
      "source": [
        "#Define a figure size\n",
        "plt.rcParams['figure.figsize'] = (15,5)\n",
        "#Plot a bar graph\n",
        "popular_meal_category.plot(kind= 'bar')\n",
        "\n"
      ],
      "execution_count": 234,
      "outputs": [
        {
          "output_type": "execute_result",
          "data": {
            "text/plain": [
              "<matplotlib.axes._subplots.AxesSubplot at 0x7f0d8b48c350>"
            ]
          },
          "metadata": {
            "tags": []
          },
          "execution_count": 234
        },
        {
          "output_type": "display_data",
          "data": {
            "image/png": "[encoded data removed]",
            "text/plain": [
              "<Figure size 1080x360 with 1 Axes>"
            ]
          },
          "metadata": {
            "tags": [],
            "needs_background": "light"
          }
        }
      ]
    },
    {
      "cell_type": "markdown",
      "metadata": {
        "id": "V1khPgRrrxF1"
      },
      "source": [
        "We have made you life really easy by creating the above chart, let me explain how. We have each hotel with respective food categories and the number of booking that people are doing in each hotel with each meal category, now it should not take you much long to figure out that be it Resort Hotel or city Hotel, people mostly prefer to go with the BB-category which is nothing more than bread and breakfast!"
      ]
    },
    {
      "cell_type": "markdown",
      "metadata": {
        "id": "IBvpkP00shQx"
      },
      "source": [
        "##If that doesn't satisfy you we have more in account for your satisfaction, let's give you a country-wise breakup of meal categories so that you can see which countries prefer which meal category the most, awesome right!"
      ]
    },
    {
      "cell_type": "code",
      "metadata": {
        "colab": {
          "base_uri": "https://localhost:8080/",
          "height": 450
        },
        "id": "gHMIInI0iimp",
        "outputId": "713ec05d-7237-4b74-fbaa-c16145a052e7"
      },
      "source": [
        "#Choosing the features of interest\n",
        "full_meal_country_vs_hotel = new_df[['country','meal','hotel']]\n",
        "#Perform a groupby for country and hotel as keys\n",
        "full_meal_country_vs_hotel = full_meal_country_vs_hotel.groupby(['country','hotel'])['meal'].value_counts()\n",
        "#Create a dataframe\n",
        "full_meal_country_vs_hotel_df = pd.DataFrame(full_meal_country_vs_hotel)\n",
        "#Rename the coulmn we have in the dataframe as no of bookings\n",
        "full_meal_country_vs_hotel_df.columns = ['no of bookings']\n",
        "#obtain a sorted dataframe to get a better picture \n",
        "full_meal_country_vs_hotel_df = full_meal_country_vs_hotel_df.sort_values('no of bookings',ascending=False)\n",
        "full_meal_country_vs_hotel_df"
      ],
      "execution_count": 23,
      "outputs": [
        {
          "output_type": "execute_result",
          "data": {
            "text/html": [
              "<div>\n",
              "<style scoped>\n",
              "    .dataframe tbody tr th:only-of-type {\n",
              "        vertical-align: middle;\n",
              "    }\n",
              "\n",
              "    .dataframe tbody tr th {\n",
              "        vertical-align: top;\n",
              "    }\n",
              "\n",
              "    .dataframe thead th {\n",
              "        text-align: right;\n",
              "    }\n",
              "</style>\n",
              "<table border=\"1\" class=\"dataframe\">\n",
              "  <thead>\n",
              "    <tr style=\"text-align: right;\">\n",
              "      <th></th>\n",
              "      <th></th>\n",
              "      <th></th>\n",
              "      <th>no of bookings</th>\n",
              "    </tr>\n",
              "    <tr>\n",
              "      <th>country</th>\n",
              "      <th>hotel</th>\n",
              "      <th>meal</th>\n",
              "      <th></th>\n",
              "    </tr>\n",
              "  </thead>\n",
              "  <tbody>\n",
              "    <tr>\n",
              "      <th rowspan=\"2\" valign=\"top\">PRT</th>\n",
              "      <th>City Hotel</th>\n",
              "      <th>BB</th>\n",
              "      <td>26544</td>\n",
              "    </tr>\n",
              "    <tr>\n",
              "      <th>Resort Hotel</th>\n",
              "      <th>BB</th>\n",
              "      <td>13012</td>\n",
              "    </tr>\n",
              "    <tr>\n",
              "      <th>FRA</th>\n",
              "      <th>City Hotel</th>\n",
              "      <th>BB</th>\n",
              "      <td>6952</td>\n",
              "    </tr>\n",
              "    <tr>\n",
              "      <th>GBR</th>\n",
              "      <th>Resort Hotel</th>\n",
              "      <th>BB</th>\n",
              "      <td>5278</td>\n",
              "    </tr>\n",
              "    <tr>\n",
              "      <th>DEU</th>\n",
              "      <th>City Hotel</th>\n",
              "      <th>BB</th>\n",
              "      <td>4069</td>\n",
              "    </tr>\n",
              "    <tr>\n",
              "      <th>...</th>\n",
              "      <th>...</th>\n",
              "      <th>...</th>\n",
              "      <td>...</td>\n",
              "    </tr>\n",
              "    <tr>\n",
              "      <th>LVA</th>\n",
              "      <th>City Hotel</th>\n",
              "      <th>HB</th>\n",
              "      <td>1</td>\n",
              "    </tr>\n",
              "    <tr>\n",
              "      <th>MAC</th>\n",
              "      <th>Resort Hotel</th>\n",
              "      <th>BB</th>\n",
              "      <td>1</td>\n",
              "    </tr>\n",
              "    <tr>\n",
              "      <th>MAR</th>\n",
              "      <th>Resort Hotel</th>\n",
              "      <th>FB</th>\n",
              "      <td>1</td>\n",
              "    </tr>\n",
              "    <tr>\n",
              "      <th>MDG</th>\n",
              "      <th>Resort Hotel</th>\n",
              "      <th>BB</th>\n",
              "      <td>1</td>\n",
              "    </tr>\n",
              "    <tr>\n",
              "      <th>ZWE</th>\n",
              "      <th>Resort Hotel</th>\n",
              "      <th>HB</th>\n",
              "      <td>1</td>\n",
              "    </tr>\n",
              "  </tbody>\n",
              "</table>\n",
              "<p>583 rows × 1 columns</p>\n",
              "</div>"
            ],
            "text/plain": [
              "                           no of bookings\n",
              "country hotel        meal                \n",
              "PRT     City Hotel   BB             26544\n",
              "        Resort Hotel BB             13012\n",
              "FRA     City Hotel   BB              6952\n",
              "GBR     Resort Hotel BB              5278\n",
              "DEU     City Hotel   BB              4069\n",
              "...                                   ...\n",
              "LVA     City Hotel   HB                 1\n",
              "MAC     Resort Hotel BB                 1\n",
              "MAR     Resort Hotel FB                 1\n",
              "MDG     Resort Hotel BB                 1\n",
              "ZWE     Resort Hotel HB                 1\n",
              "\n",
              "[583 rows x 1 columns]"
            ]
          },
          "metadata": {
            "tags": []
          },
          "execution_count": 23
        }
      ]
    },
    {
      "cell_type": "markdown",
      "metadata": {
        "id": "Zo6pWHo4mo4K"
      },
      "source": [
        "##Now that we are done with the meals, let's go ahead and check out the rooms. I am sure you will need our help to figure out which rooms you should choose and which ones you should not!"
      ]
    },
    {
      "cell_type": "code",
      "metadata": {
        "colab": {
          "base_uri": "https://localhost:8080/"
        },
        "id": "R2R1om0HmM3g",
        "outputId": "2fdb02a1-6dc1-4925-b602-3edbf24f5523"
      },
      "source": [
        "#Check the room categories we have\n",
        "new_df.reserved_room_type.nunique(),new_df.reserved_room_type.unique()"
      ],
      "execution_count": 24,
      "outputs": [
        {
          "output_type": "execute_result",
          "data": {
            "text/plain": [
              "(10, array(['C', 'A', 'D', 'E', 'G', 'F', 'H', 'L', 'P', 'B'], dtype=object))"
            ]
          },
          "metadata": {
            "tags": []
          },
          "execution_count": 24
        }
      ]
    },
    {
      "cell_type": "markdown",
      "metadata": {
        "id": "tYM1BzD0yYmo"
      },
      "source": [
        "##As we can see we have ten different room categories and each category must be better suited for certain customers, so we will try to find that very thing. This is how we will proceed;\n",
        "\n",
        "1. We will first take into consideration that only adults are staying in the hotel rooms and see if number of adults have a relation with rooms that they select.\n",
        "\n",
        "2. We will next do the same for children and babies, if there are any."
      ]
    },
    {
      "cell_type": "code",
      "metadata": {
        "colab": {
          "base_uri": "https://localhost:8080/"
        },
        "id": "xsKS9GKzhbQK",
        "outputId": "6d52c1f4-615f-4f2b-bcb3-dd939f5d22e4"
      },
      "source": [
        "sorted(new_df.adults.unique())"
      ],
      "execution_count": 55,
      "outputs": [
        {
          "output_type": "execute_result",
          "data": {
            "text/plain": [
              "[0, 1, 2, 3, 4, 5, 6, 10, 20, 26, 27, 40, 50, 55]"
            ]
          },
          "metadata": {
            "tags": []
          },
          "execution_count": 55
        }
      ]
    },
    {
      "cell_type": "markdown",
      "metadata": {
        "id": "VazWeiIjxDtJ"
      },
      "source": [
        "##Most of the travellers are either a single adult or a couple of adults, let's see if data can help us select better rooms for such travellers "
      ]
    },
    {
      "cell_type": "code",
      "metadata": {
        "id": "X4ZauMTBv-J5"
      },
      "source": [
        "#create a series with given boolen filtering\n",
        "adults_less_than_3 = new_df[(new_df['adults'] == 1) |(new_df['adults'] == 2)]['reserved_room_type'].value_counts()"
      ],
      "execution_count": 137,
      "outputs": []
    },
    {
      "cell_type": "code",
      "metadata": {
        "colab": {
          "base_uri": "https://localhost:8080/",
          "height": 374
        },
        "id": "V5QU2-duv964",
        "outputId": "7a9a1d45-6ba4-46c6-eaec-355da143f13b"
      },
      "source": [
        "#plot a bar graph to visualize the data\n",
        "plt.rcParams['figure.figsize'] = (10, 5)\n",
        "\n",
        "adults_less_than_3.plot(kind='bar')\n",
        "\n",
        "#Give title and x,y labels\n",
        "plt.title('Room types for 1 or 2 adults',fontdict = {'fontsize':18})\n",
        "plt.ylabel('No. of bookings',fontdict = {'fontsize':15})\n",
        "plt.xlabel('Room type',fontdict = {'fontsize':15})"
      ],
      "execution_count": 138,
      "outputs": [
        {
          "output_type": "execute_result",
          "data": {
            "text/plain": [
              "Text(0.5, 0, 'Room type')"
            ]
          },
          "metadata": {
            "tags": []
          },
          "execution_count": 138
        },
        {
          "output_type": "display_data",
          "data": {
            "image/png": "[encoded data removed]",
            "text/plain": [
              "<Figure size 720x360 with 1 Axes>"
            ]
          },
          "metadata": {
            "tags": [],
            "needs_background": "light"
          }
        }
      ]
    },
    {
      "cell_type": "markdown",
      "metadata": {
        "id": "YoMQjIwcxg1b"
      },
      "source": [
        "Clearly such travellers have gone overwhelmingly with A-type rooms, there is no reason you shouldn't too!"
      ]
    },
    {
      "cell_type": "markdown",
      "metadata": {
        "id": "aaedDKuxBNSO"
      },
      "source": [
        "##In case you are travelling with 3 adults "
      ]
    },
    {
      "cell_type": "code",
      "metadata": {
        "colab": {
          "base_uri": "https://localhost:8080/",
          "height": 373
        },
        "id": "D2v9AL-fBMIx",
        "outputId": "5c296cb3-6335-44c9-acda-92a08bb7d318"
      },
      "source": [
        "#create a series with given boolen filtering\n",
        "Three_adults = new_df[new_df['adults'] == 3]['reserved_room_type'].value_counts()\n",
        "#plot a bar graph to visualize the data\n",
        "plt.rcParams['figure.figsize'] = (15, 5)\n",
        "\n",
        "Three_adults.plot(kind='bar')\n",
        "\n",
        "#Give title and x,y labels\n",
        "plt.title('Three adults v/s room taken',fontdict = {'fontsize':20})\n",
        "plt.ylabel('No. of bookings',fontdict = {'fontsize':13})\n",
        "plt.xlabel('Room type',fontdict = {'fontsize':13})"
      ],
      "execution_count": 139,
      "outputs": [
        {
          "output_type": "execute_result",
          "data": {
            "text/plain": [
              "Text(0.5, 0, 'Room type')"
            ]
          },
          "metadata": {
            "tags": []
          },
          "execution_count": 139
        },
        {
          "output_type": "display_data",
          "data": {
            "image/png": "[encoded data removed]",
            "text/plain": [
              "<Figure size 1080x360 with 1 Axes>"
            ]
          },
          "metadata": {
            "tags": [],
            "needs_background": "light"
          }
        }
      ]
    },
    {
      "cell_type": "markdown",
      "metadata": {
        "id": "8QnNQyxcCUtb"
      },
      "source": [
        "Hence room type-D is the most preffered room in this case followed by room type-A"
      ]
    },
    {
      "cell_type": "code",
      "metadata": {
        "id": "mqId7poACUIf"
      },
      "source": [
        ""
      ],
      "execution_count": null,
      "outputs": []
    },
    {
      "cell_type": "markdown",
      "metadata": {
        "id": "TFZfP1dbuYoj"
      },
      "source": [
        "##There aren't many people who are booking rooms for more than four people, but in case you are one of them you can easily choose from A,E,D room types in the same order of priority."
      ]
    },
    {
      "cell_type": "code",
      "metadata": {
        "id": "LeBXNhd8w0b7",
        "colab": {
          "base_uri": "https://localhost:8080/",
          "height": 373
        },
        "outputId": "6078c42f-1bdb-4a68-d74a-fabda0d4d77c"
      },
      "source": [
        "#Create a series based on required boolean condition\n",
        "more_adults = new_df[(new_df['adults'] >4) & (new_df['adults'] <55)]['reserved_room_type'].value_counts()\n",
        "#plot a bar graph to visualize the data\n",
        "plt.rcParams['figure.figsize'] = (15, 5)\n",
        "\n",
        "more_adults.plot(kind='bar')\n",
        "\n",
        "#Give title and x,y labels\n",
        "plt.title('room types choosen by more than 4 adults',fontdict = {'fontsize':20})\n",
        "plt.ylabel('No. of bookings',fontdict = {'fontsize':13})\n",
        "plt.xlabel('Room type',fontdict = {'fontsize':13})"
      ],
      "execution_count": 123,
      "outputs": [
        {
          "output_type": "execute_result",
          "data": {
            "text/plain": [
              "Text(0.5, 0, 'Room type')"
            ]
          },
          "metadata": {
            "tags": []
          },
          "execution_count": 123
        },
        {
          "output_type": "display_data",
          "data": {
            "image/png": "[encoded data removed]",
            "text/plain": [
              "<Figure size 1080x360 with 1 Axes>"
            ]
          },
          "metadata": {
            "tags": [],
            "needs_background": "light"
          }
        }
      ]
    },
    {
      "cell_type": "markdown",
      "metadata": {
        "id": "nviLB474j5-t"
      },
      "source": [
        "##If in case there are no adults checking in then we are left with children and babies, this is absolutely possible because adults can book rooms for their children at places they aren't themselves moving to. Let's just take a look at what data has to say about this!"
      ]
    },
    {
      "cell_type": "code",
      "metadata": {
        "colab": {
          "base_uri": "https://localhost:8080/",
          "height": 419
        },
        "id": "XQP5969phl-c",
        "outputId": "3c297d3e-4ea0-4d9d-8938-2fc02b5b338b"
      },
      "source": [
        "new_df[new_df['adults'] == 0][['children','babies',]]"
      ],
      "execution_count": 59,
      "outputs": [
        {
          "output_type": "execute_result",
          "data": {
            "text/html": [
              "<div>\n",
              "<style scoped>\n",
              "    .dataframe tbody tr th:only-of-type {\n",
              "        vertical-align: middle;\n",
              "    }\n",
              "\n",
              "    .dataframe tbody tr th {\n",
              "        vertical-align: top;\n",
              "    }\n",
              "\n",
              "    .dataframe thead th {\n",
              "        text-align: right;\n",
              "    }\n",
              "</style>\n",
              "<table border=\"1\" class=\"dataframe\">\n",
              "  <thead>\n",
              "    <tr style=\"text-align: right;\">\n",
              "      <th></th>\n",
              "      <th>children</th>\n",
              "      <th>babies</th>\n",
              "    </tr>\n",
              "  </thead>\n",
              "  <tbody>\n",
              "    <tr>\n",
              "      <th>2224</th>\n",
              "      <td>0.0</td>\n",
              "      <td>0</td>\n",
              "    </tr>\n",
              "    <tr>\n",
              "      <th>2409</th>\n",
              "      <td>0.0</td>\n",
              "      <td>0</td>\n",
              "    </tr>\n",
              "    <tr>\n",
              "      <th>3181</th>\n",
              "      <td>0.0</td>\n",
              "      <td>0</td>\n",
              "    </tr>\n",
              "    <tr>\n",
              "      <th>3684</th>\n",
              "      <td>0.0</td>\n",
              "      <td>0</td>\n",
              "    </tr>\n",
              "    <tr>\n",
              "      <th>3708</th>\n",
              "      <td>0.0</td>\n",
              "      <td>0</td>\n",
              "    </tr>\n",
              "    <tr>\n",
              "      <th>...</th>\n",
              "      <td>...</td>\n",
              "      <td>...</td>\n",
              "    </tr>\n",
              "    <tr>\n",
              "      <th>117204</th>\n",
              "      <td>2.0</td>\n",
              "      <td>0</td>\n",
              "    </tr>\n",
              "    <tr>\n",
              "      <th>117274</th>\n",
              "      <td>2.0</td>\n",
              "      <td>0</td>\n",
              "    </tr>\n",
              "    <tr>\n",
              "      <th>117303</th>\n",
              "      <td>2.0</td>\n",
              "      <td>0</td>\n",
              "    </tr>\n",
              "    <tr>\n",
              "      <th>117453</th>\n",
              "      <td>2.0</td>\n",
              "      <td>0</td>\n",
              "    </tr>\n",
              "    <tr>\n",
              "      <th>118200</th>\n",
              "      <td>3.0</td>\n",
              "      <td>0</td>\n",
              "    </tr>\n",
              "  </tbody>\n",
              "</table>\n",
              "<p>403 rows × 2 columns</p>\n",
              "</div>"
            ],
            "text/plain": [
              "        children  babies\n",
              "2224         0.0       0\n",
              "2409         0.0       0\n",
              "3181         0.0       0\n",
              "3684         0.0       0\n",
              "3708         0.0       0\n",
              "...          ...     ...\n",
              "117204       2.0       0\n",
              "117274       2.0       0\n",
              "117303       2.0       0\n",
              "117453       2.0       0\n",
              "118200       3.0       0\n",
              "\n",
              "[403 rows x 2 columns]"
            ]
          },
          "metadata": {
            "tags": []
          },
          "execution_count": 59
        }
      ]
    },
    {
      "cell_type": "markdown",
      "metadata": {
        "id": "2gJGVLlUk0ii"
      },
      "source": [
        "<i>As you might have expeced there are children without adults (of course there can be) but there are no babies (of course there can't be), makes sense right!</i>\n",
        "\n",
        "#Now let's say you want to send your kids somewhere and they are alone in this, in order for them to make the most of their trip and enjoy every moment you would want the best for your kids. But how do you select the best, don't get carried away, *everything shall be answered through the data*, just stay with us!"
      ]
    },
    {
      "cell_type": "code",
      "metadata": {
        "colab": {
          "base_uri": "https://localhost:8080/"
        },
        "id": "nDbuLCB7jmc_",
        "outputId": "e670f3c9-2f29-458d-954a-8ec5deedf9fd"
      },
      "source": [
        "#Create a dataframe with the condition that only children are staying\n",
        "children_only = new_df[new_df['adults'] == 0]['reserved_room_type'].value_counts()\n",
        "\n",
        "children_only"
      ],
      "execution_count": 105,
      "outputs": [
        {
          "output_type": "execute_result",
          "data": {
            "text/plain": [
              "B    211\n",
              "A    131\n",
              "D     23\n",
              "E     17\n",
              "P     12\n",
              "F      5\n",
              "G      3\n",
              "C      1\n",
              "Name: reserved_room_type, dtype: int64"
            ]
          },
          "metadata": {
            "tags": []
          },
          "execution_count": 105
        }
      ]
    },
    {
      "cell_type": "code",
      "metadata": {
        "colab": {
          "base_uri": "https://localhost:8080/",
          "height": 373
        },
        "id": "feDT2zDMmyNj",
        "outputId": "9fa71c0b-45f5-42b5-90e3-520c3f3e2c93"
      },
      "source": [
        "#plot a bar graph for above data\n",
        "plt.rcParams['figure.figsize'] = (15, 5)\n",
        "\n",
        "children_only.plot(kind='bar')\n",
        "\n",
        "#Give title and x,y labels\n",
        "plt.title('Children bookings against room types',fontdict = {'fontsize':20})\n",
        "plt.ylabel('No. of bookings',fontdict = {'fontsize':13})\n",
        "plt.xlabel('Room type',fontdict = {'fontsize':13})\n",
        "\n",
        "#Bar plot\n"
      ],
      "execution_count": 106,
      "outputs": [
        {
          "output_type": "execute_result",
          "data": {
            "text/plain": [
              "Text(0.5, 0, 'Room type')"
            ]
          },
          "metadata": {
            "tags": []
          },
          "execution_count": 106
        },
        {
          "output_type": "display_data",
          "data": {
            "image/png": "[encoded data removed]",
            "text/plain": [
              "<Figure size 1080x360 with 1 Axes>"
            ]
          },
          "metadata": {
            "tags": [],
            "needs_background": "light"
          }
        }
      ]
    },
    {
      "cell_type": "markdown",
      "metadata": {
        "id": "ccPOWEFDslPD"
      },
      "source": [
        "Now the beautiful thing is that you don't need to be a data scientist to read this graph that we produced, results are pretty simple, if you are booking a hotel room for your kid Room-B will be the best choice for you only to be followed by Room-A, because that's where the big chunk of bookings is happening!"
      ]
    },
    {
      "cell_type": "code",
      "metadata": {
        "id": "hYEP20iDDo19"
      },
      "source": [
        ""
      ],
      "execution_count": null,
      "outputs": []
    }
  ]
}